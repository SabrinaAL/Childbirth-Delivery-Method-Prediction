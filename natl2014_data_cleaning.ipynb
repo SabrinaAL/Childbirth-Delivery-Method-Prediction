{
 "cells": [
  {
   "cell_type": "code",
   "execution_count": 1,
   "metadata": {
    "collapsed": true
   },
   "outputs": [],
   "source": [
    "# Import libraries\n",
    "import numpy as np\n",
    "import pandas as pd"
   ]
  },
  {
   "cell_type": "code",
   "execution_count": 3,
   "metadata": {
    "collapsed": false
   },
   "outputs": [],
   "source": [
    "# Read raw CDC Birth data\n",
    "data = pd.read_csv('natl2014.csv')"
   ]
  },
  {
   "cell_type": "code",
   "execution_count": 4,
   "metadata": {
    "collapsed": false,
    "scrolled": true
   },
   "outputs": [
    {
     "data": {
      "text/html": [
       "<div>\n",
       "<table border=\"1\" class=\"dataframe\">\n",
       "  <thead>\n",
       "    <tr style=\"text-align: right;\">\n",
       "      <th></th>\n",
       "      <th>dob_yy</th>\n",
       "      <th>dob_mm</th>\n",
       "      <th>dob_tt</th>\n",
       "      <th>dob_wk</th>\n",
       "      <th>bfacil</th>\n",
       "      <th>f_facility</th>\n",
       "      <th>bfacil3</th>\n",
       "      <th>mage_impflg</th>\n",
       "      <th>mage_repflg</th>\n",
       "      <th>mager</th>\n",
       "      <th>...</th>\n",
       "      <th>ume_forcep</th>\n",
       "      <th>ume_vac</th>\n",
       "      <th>uop_induc</th>\n",
       "      <th>uld_breech</th>\n",
       "      <th>uca_anen</th>\n",
       "      <th>uca_spina</th>\n",
       "      <th>uca_ompha</th>\n",
       "      <th>uca_cleftlp</th>\n",
       "      <th>uca_hernia</th>\n",
       "      <th>uca_downs</th>\n",
       "    </tr>\n",
       "  </thead>\n",
       "  <tbody>\n",
       "    <tr>\n",
       "      <th>0</th>\n",
       "      <td>2014</td>\n",
       "      <td>1</td>\n",
       "      <td>421.0</td>\n",
       "      <td>4</td>\n",
       "      <td>1.0</td>\n",
       "      <td>1</td>\n",
       "      <td>1</td>\n",
       "      <td>NaN</td>\n",
       "      <td>NaN</td>\n",
       "      <td>29</td>\n",
       "      <td>...</td>\n",
       "      <td>2</td>\n",
       "      <td>2</td>\n",
       "      <td>1</td>\n",
       "      <td>2</td>\n",
       "      <td>2</td>\n",
       "      <td>2</td>\n",
       "      <td>2</td>\n",
       "      <td>2</td>\n",
       "      <td>2</td>\n",
       "      <td>2</td>\n",
       "    </tr>\n",
       "    <tr>\n",
       "      <th>1</th>\n",
       "      <td>2014</td>\n",
       "      <td>1</td>\n",
       "      <td>658.0</td>\n",
       "      <td>4</td>\n",
       "      <td>1.0</td>\n",
       "      <td>1</td>\n",
       "      <td>1</td>\n",
       "      <td>NaN</td>\n",
       "      <td>NaN</td>\n",
       "      <td>25</td>\n",
       "      <td>...</td>\n",
       "      <td>2</td>\n",
       "      <td>2</td>\n",
       "      <td>1</td>\n",
       "      <td>2</td>\n",
       "      <td>2</td>\n",
       "      <td>2</td>\n",
       "      <td>2</td>\n",
       "      <td>2</td>\n",
       "      <td>2</td>\n",
       "      <td>2</td>\n",
       "    </tr>\n",
       "    <tr>\n",
       "      <th>2</th>\n",
       "      <td>2014</td>\n",
       "      <td>1</td>\n",
       "      <td>224.0</td>\n",
       "      <td>4</td>\n",
       "      <td>1.0</td>\n",
       "      <td>1</td>\n",
       "      <td>1</td>\n",
       "      <td>NaN</td>\n",
       "      <td>NaN</td>\n",
       "      <td>21</td>\n",
       "      <td>...</td>\n",
       "      <td>2</td>\n",
       "      <td>2</td>\n",
       "      <td>1</td>\n",
       "      <td>2</td>\n",
       "      <td>2</td>\n",
       "      <td>2</td>\n",
       "      <td>2</td>\n",
       "      <td>2</td>\n",
       "      <td>2</td>\n",
       "      <td>2</td>\n",
       "    </tr>\n",
       "    <tr>\n",
       "      <th>3</th>\n",
       "      <td>2014</td>\n",
       "      <td>1</td>\n",
       "      <td>1048.0</td>\n",
       "      <td>4</td>\n",
       "      <td>1.0</td>\n",
       "      <td>1</td>\n",
       "      <td>1</td>\n",
       "      <td>NaN</td>\n",
       "      <td>NaN</td>\n",
       "      <td>22</td>\n",
       "      <td>...</td>\n",
       "      <td>2</td>\n",
       "      <td>2</td>\n",
       "      <td>1</td>\n",
       "      <td>2</td>\n",
       "      <td>2</td>\n",
       "      <td>2</td>\n",
       "      <td>2</td>\n",
       "      <td>2</td>\n",
       "      <td>2</td>\n",
       "      <td>2</td>\n",
       "    </tr>\n",
       "    <tr>\n",
       "      <th>4</th>\n",
       "      <td>2014</td>\n",
       "      <td>1</td>\n",
       "      <td>119.0</td>\n",
       "      <td>5</td>\n",
       "      <td>1.0</td>\n",
       "      <td>1</td>\n",
       "      <td>1</td>\n",
       "      <td>NaN</td>\n",
       "      <td>NaN</td>\n",
       "      <td>25</td>\n",
       "      <td>...</td>\n",
       "      <td>2</td>\n",
       "      <td>2</td>\n",
       "      <td>2</td>\n",
       "      <td>2</td>\n",
       "      <td>2</td>\n",
       "      <td>2</td>\n",
       "      <td>2</td>\n",
       "      <td>2</td>\n",
       "      <td>2</td>\n",
       "      <td>2</td>\n",
       "    </tr>\n",
       "  </tbody>\n",
       "</table>\n",
       "<p>5 rows × 241 columns</p>\n",
       "</div>"
      ],
      "text/plain": [
       "   dob_yy  dob_mm  dob_tt  dob_wk  bfacil  f_facility  bfacil3  mage_impflg  \\\n",
       "0    2014       1   421.0       4     1.0           1        1          NaN   \n",
       "1    2014       1   658.0       4     1.0           1        1          NaN   \n",
       "2    2014       1   224.0       4     1.0           1        1          NaN   \n",
       "3    2014       1  1048.0       4     1.0           1        1          NaN   \n",
       "4    2014       1   119.0       5     1.0           1        1          NaN   \n",
       "\n",
       "   mage_repflg  mager    ...      ume_forcep  ume_vac  uop_induc  uld_breech  \\\n",
       "0          NaN     29    ...               2        2          1           2   \n",
       "1          NaN     25    ...               2        2          1           2   \n",
       "2          NaN     21    ...               2        2          1           2   \n",
       "3          NaN     22    ...               2        2          1           2   \n",
       "4          NaN     25    ...               2        2          2           2   \n",
       "\n",
       "   uca_anen  uca_spina  uca_ompha  uca_cleftlp  uca_hernia  uca_downs  \n",
       "0         2          2          2            2           2          2  \n",
       "1         2          2          2            2           2          2  \n",
       "2         2          2          2            2           2          2  \n",
       "3         2          2          2            2           2          2  \n",
       "4         2          2          2            2           2          2  \n",
       "\n",
       "[5 rows x 241 columns]"
      ]
     },
     "execution_count": 4,
     "metadata": {},
     "output_type": "execute_result"
    }
   ],
   "source": [
    "data.head()"
   ]
  },
  {
   "cell_type": "code",
   "execution_count": 5,
   "metadata": {
    "collapsed": false
   },
   "outputs": [
    {
     "data": {
      "text/plain": [
       "dob_yy                0\n",
       "dob_mm                0\n",
       "dob_tt           142900\n",
       "dob_wk                0\n",
       "bfacil           142900\n",
       "f_facility            0\n",
       "bfacil3               0\n",
       "mage_impflg     3997741\n",
       "mage_repflg     3998065\n",
       "mager                 0\n",
       "mager14               0\n",
       "mager9                0\n",
       "mbstate_rec           0\n",
       "restatus              0\n",
       "mrace31          131542\n",
       "mrace6           131542\n",
       "mrace15          131542\n",
       "mbrace                0\n",
       "mraceimp        3763262\n",
       "mhisp_r               0\n",
       "f_mhisp               0\n",
       "mracehisp        131542\n",
       "mar_p            142900\n",
       "dmar                  0\n",
       "mar_imp         3995000\n",
       "f_mar_p               0\n",
       "meduc            142900\n",
       "f_meduc               0\n",
       "fagerpt_flg     3994215\n",
       "fagecomb         142900\n",
       "                 ...   \n",
       "ca_clpal         142900\n",
       "ca_downs         142900\n",
       "ca_disor         142900\n",
       "ca_hypo          142900\n",
       "f_ca_limb             0\n",
       "f_ca_cleftlp          0\n",
       "f_ca_cleft            0\n",
       "f_ca_downs            0\n",
       "f_ca_chrom            0\n",
       "f_ca_hypos            0\n",
       "no_congen        142900\n",
       "itran            142900\n",
       "ilive            142900\n",
       "bfed             142900\n",
       "f_bfed                0\n",
       "ubfacil               0\n",
       "urf_diab              0\n",
       "urf_chyper            0\n",
       "urf_phyper            0\n",
       "urf_eclam             0\n",
       "ume_forcep            0\n",
       "ume_vac               0\n",
       "uop_induc             0\n",
       "uld_breech            0\n",
       "uca_anen              0\n",
       "uca_spina             0\n",
       "uca_ompha             0\n",
       "uca_cleftlp           0\n",
       "uca_hernia            0\n",
       "uca_downs             0\n",
       "dtype: int64"
      ]
     },
     "execution_count": 5,
     "metadata": {},
     "output_type": "execute_result"
    }
   ],
   "source": [
    "# Count number of NaN values in each column\n",
    "data.isnull().sum()"
   ]
  },
  {
   "cell_type": "code",
   "execution_count": 6,
   "metadata": {
    "collapsed": false
   },
   "outputs": [
    {
     "data": {
      "text/plain": [
       "(3998175, 241)"
      ]
     },
     "execution_count": 6,
     "metadata": {},
     "output_type": "execute_result"
    }
   ],
   "source": [
    "data.shape"
   ]
  },
  {
   "cell_type": "code",
   "execution_count": 7,
   "metadata": {
    "collapsed": false
   },
   "outputs": [],
   "source": [
    "# Drop reduntant and unnessesary columns\n",
    "\n",
    "new_data=data.drop(['dob_yy','dob_wk','dob_mm','dob_tt','bfacil','f_facility','mager','mager14',\n",
    "                           'restatus','mrace31','mrace6','mbrace','f_mhisp','mracehisp',\n",
    "                    'f_mar_p','f_meduc','fagerpt_flg','fagecomb','frace31','frace6','fbrace',\n",
    "                    'f_fhisp','fracehisp','illb_r','ilop_r','ilp_r','f_mpcb','precare',\n",
    "                    'previs','f_tpcv','f_wic','cig_0','cig_1','cig_2','cig_3','f_cigs_0','f_cigs_1',\n",
    "                    'f_cigs_2','f_cigs_3','f_tobaco','f_m_ht','bmi','f_pwgt','f_dwgt','wtgain','f_wtgain',\n",
    "                    'f_rf_pdiab','f_rf_gdiab','f_rf_phyper','f_rf_ghyper','f_rf_eclamp','f_rf_ppb','f_rf_inf_drg',\n",
    "                    'f_rf_inf_art','f_rf_cesar','f_rf_ncesar','f_ip_gonor','f_ip_syph','f_ip_chlam','f_ip_hepatb',\n",
    "                    'f_ip_hepatc','f_ob_succ','f_ob_fail','f_ld_indl','f_ld_augm','f_ld_ster','f_ld_antb','f_ld_chor',\n",
    "                   'f_ld_anes','f_me_pres','f_me_rout','f_me_trial','me_rout','rdmeth_rec','f_dmeth_rec','f_mm_mtr',\n",
    "                   'f_mm_rupt','f_mm_aicu','pay','f_pay_rec','apgar5','f_apgar5','apgar10',\n",
    "                    'imp_plur','imp_sex','compgst_imp','obgest_flg','combgest','gestrec3','lmpused','oegest_comb',\n",
    "                    'oegest_r3','bwtr12','f_ab_vent','f_ab_vent6','f_ab_nicu','f_ab_surfac','f_ab_antibio','f_ab_seiz',\n",
    "                   'f_ca_anen','f_ca_menin','f_ca_heart','f_ca_hernia','f_ca_ompha','f_ca_gastro','f_ca_limb','f_ca_cleftlp',\n",
    "                   'f_ca_downs','f_ca_chrom','f_bfed',], 1)"
   ]
  },
  {
   "cell_type": "code",
   "execution_count": 8,
   "metadata": {
    "collapsed": true
   },
   "outputs": [],
   "source": [
    "# Drop columns which contain large number of NaN values\n",
    "\n",
    "new_data=new_data.dropna(axis=1, thresh=250000)"
   ]
  },
  {
   "cell_type": "code",
   "execution_count": 9,
   "metadata": {
    "collapsed": false
   },
   "outputs": [
    {
     "data": {
      "text/plain": [
       "bfacil3             0\n",
       "mager9              0\n",
       "mbstate_rec         0\n",
       "mrace15        131542\n",
       "mhisp_r             0\n",
       "mar_p          142900\n",
       "dmar                0\n",
       "meduc          142900\n",
       "fagerec11           0\n",
       "frace15        131542\n",
       "fhisp_r             0\n",
       "feduc          142900\n",
       "priorlive           0\n",
       "priordead           0\n",
       "priorterm           0\n",
       "lbo_rec             0\n",
       "tbo_rec             0\n",
       "illb_r11       142900\n",
       "ilop_r11       142900\n",
       "ilp_r11        142900\n",
       "precare5       142900\n",
       "previs_rec          0\n",
       "wic            142900\n",
       "cig0_r         142900\n",
       "cig1_r         142900\n",
       "cig2_r         142900\n",
       "cig3_r         142900\n",
       "cig_rec        142900\n",
       "m_ht_in        142900\n",
       "bmi_r          142900\n",
       "                ...  \n",
       "ca_cdh         142900\n",
       "ca_omph        142900\n",
       "ca_gast        142900\n",
       "ca_limb        142900\n",
       "ca_cleft       142900\n",
       "ca_clpal       142900\n",
       "ca_downs       142900\n",
       "ca_disor       142900\n",
       "ca_hypo        142900\n",
       "f_ca_cleft          0\n",
       "f_ca_hypos          0\n",
       "no_congen      142900\n",
       "itran          142900\n",
       "ilive          142900\n",
       "bfed           142900\n",
       "ubfacil             0\n",
       "urf_diab            0\n",
       "urf_chyper          0\n",
       "urf_phyper          0\n",
       "urf_eclam           0\n",
       "ume_forcep          0\n",
       "ume_vac             0\n",
       "uop_induc           0\n",
       "uld_breech          0\n",
       "uca_anen            0\n",
       "uca_spina           0\n",
       "uca_ompha           0\n",
       "uca_cleftlp         0\n",
       "uca_hernia          0\n",
       "uca_downs           0\n",
       "dtype: int64"
      ]
     },
     "execution_count": 9,
     "metadata": {},
     "output_type": "execute_result"
    }
   ],
   "source": [
    "# Count number of NaN values in each column of new data frame\n",
    "\n",
    "new_data.isnull().sum()"
   ]
  },
  {
   "cell_type": "code",
   "execution_count": 10,
   "metadata": {
    "collapsed": false
   },
   "outputs": [
    {
     "data": {
      "text/html": [
       "<div>\n",
       "<table border=\"1\" class=\"dataframe\">\n",
       "  <thead>\n",
       "    <tr style=\"text-align: right;\">\n",
       "      <th></th>\n",
       "      <th>bfacil3</th>\n",
       "      <th>mager9</th>\n",
       "      <th>mbstate_rec</th>\n",
       "      <th>mrace15</th>\n",
       "      <th>mhisp_r</th>\n",
       "      <th>mar_p</th>\n",
       "      <th>dmar</th>\n",
       "      <th>meduc</th>\n",
       "      <th>fagerec11</th>\n",
       "      <th>frace15</th>\n",
       "      <th>...</th>\n",
       "      <th>ume_forcep</th>\n",
       "      <th>ume_vac</th>\n",
       "      <th>uop_induc</th>\n",
       "      <th>uld_breech</th>\n",
       "      <th>uca_anen</th>\n",
       "      <th>uca_spina</th>\n",
       "      <th>uca_ompha</th>\n",
       "      <th>uca_cleftlp</th>\n",
       "      <th>uca_hernia</th>\n",
       "      <th>uca_downs</th>\n",
       "    </tr>\n",
       "  </thead>\n",
       "  <tbody>\n",
       "    <tr>\n",
       "      <th>0</th>\n",
       "      <td>1</td>\n",
       "      <td>4</td>\n",
       "      <td>1</td>\n",
       "      <td>1.0</td>\n",
       "      <td>0</td>\n",
       "      <td>X</td>\n",
       "      <td>1</td>\n",
       "      <td>7.0</td>\n",
       "      <td>6</td>\n",
       "      <td>1.0</td>\n",
       "      <td>...</td>\n",
       "      <td>2</td>\n",
       "      <td>2</td>\n",
       "      <td>1</td>\n",
       "      <td>2</td>\n",
       "      <td>2</td>\n",
       "      <td>2</td>\n",
       "      <td>2</td>\n",
       "      <td>2</td>\n",
       "      <td>2</td>\n",
       "      <td>2</td>\n",
       "    </tr>\n",
       "    <tr>\n",
       "      <th>1</th>\n",
       "      <td>1</td>\n",
       "      <td>4</td>\n",
       "      <td>1</td>\n",
       "      <td>3.0</td>\n",
       "      <td>0</td>\n",
       "      <td>N</td>\n",
       "      <td>2</td>\n",
       "      <td>3.0</td>\n",
       "      <td>11</td>\n",
       "      <td>99.0</td>\n",
       "      <td>...</td>\n",
       "      <td>2</td>\n",
       "      <td>2</td>\n",
       "      <td>1</td>\n",
       "      <td>2</td>\n",
       "      <td>2</td>\n",
       "      <td>2</td>\n",
       "      <td>2</td>\n",
       "      <td>2</td>\n",
       "      <td>2</td>\n",
       "      <td>2</td>\n",
       "    </tr>\n",
       "    <tr>\n",
       "      <th>2</th>\n",
       "      <td>1</td>\n",
       "      <td>3</td>\n",
       "      <td>1</td>\n",
       "      <td>1.0</td>\n",
       "      <td>0</td>\n",
       "      <td>X</td>\n",
       "      <td>1</td>\n",
       "      <td>4.0</td>\n",
       "      <td>3</td>\n",
       "      <td>1.0</td>\n",
       "      <td>...</td>\n",
       "      <td>2</td>\n",
       "      <td>2</td>\n",
       "      <td>1</td>\n",
       "      <td>2</td>\n",
       "      <td>2</td>\n",
       "      <td>2</td>\n",
       "      <td>2</td>\n",
       "      <td>2</td>\n",
       "      <td>2</td>\n",
       "      <td>2</td>\n",
       "    </tr>\n",
       "    <tr>\n",
       "      <th>3</th>\n",
       "      <td>1</td>\n",
       "      <td>3</td>\n",
       "      <td>1</td>\n",
       "      <td>2.0</td>\n",
       "      <td>0</td>\n",
       "      <td>N</td>\n",
       "      <td>2</td>\n",
       "      <td>5.0</td>\n",
       "      <td>11</td>\n",
       "      <td>99.0</td>\n",
       "      <td>...</td>\n",
       "      <td>2</td>\n",
       "      <td>2</td>\n",
       "      <td>1</td>\n",
       "      <td>2</td>\n",
       "      <td>2</td>\n",
       "      <td>2</td>\n",
       "      <td>2</td>\n",
       "      <td>2</td>\n",
       "      <td>2</td>\n",
       "      <td>2</td>\n",
       "    </tr>\n",
       "    <tr>\n",
       "      <th>4</th>\n",
       "      <td>1</td>\n",
       "      <td>4</td>\n",
       "      <td>1</td>\n",
       "      <td>1.0</td>\n",
       "      <td>0</td>\n",
       "      <td>X</td>\n",
       "      <td>1</td>\n",
       "      <td>5.0</td>\n",
       "      <td>4</td>\n",
       "      <td>1.0</td>\n",
       "      <td>...</td>\n",
       "      <td>2</td>\n",
       "      <td>2</td>\n",
       "      <td>2</td>\n",
       "      <td>2</td>\n",
       "      <td>2</td>\n",
       "      <td>2</td>\n",
       "      <td>2</td>\n",
       "      <td>2</td>\n",
       "      <td>2</td>\n",
       "      <td>2</td>\n",
       "    </tr>\n",
       "  </tbody>\n",
       "</table>\n",
       "<p>5 rows × 127 columns</p>\n",
       "</div>"
      ],
      "text/plain": [
       "   bfacil3  mager9  mbstate_rec  mrace15  mhisp_r mar_p  dmar  meduc  \\\n",
       "0        1       4            1      1.0        0     X     1    7.0   \n",
       "1        1       4            1      3.0        0     N     2    3.0   \n",
       "2        1       3            1      1.0        0     X     1    4.0   \n",
       "3        1       3            1      2.0        0     N     2    5.0   \n",
       "4        1       4            1      1.0        0     X     1    5.0   \n",
       "\n",
       "   fagerec11  frace15    ...      ume_forcep  ume_vac  uop_induc  uld_breech  \\\n",
       "0          6      1.0    ...               2        2          1           2   \n",
       "1         11     99.0    ...               2        2          1           2   \n",
       "2          3      1.0    ...               2        2          1           2   \n",
       "3         11     99.0    ...               2        2          1           2   \n",
       "4          4      1.0    ...               2        2          2           2   \n",
       "\n",
       "   uca_anen  uca_spina  uca_ompha  uca_cleftlp  uca_hernia  uca_downs  \n",
       "0         2          2          2            2           2          2  \n",
       "1         2          2          2            2           2          2  \n",
       "2         2          2          2            2           2          2  \n",
       "3         2          2          2            2           2          2  \n",
       "4         2          2          2            2           2          2  \n",
       "\n",
       "[5 rows x 127 columns]"
      ]
     },
     "execution_count": 10,
     "metadata": {},
     "output_type": "execute_result"
    }
   ],
   "source": [
    "new_data.head()"
   ]
  },
  {
   "cell_type": "code",
   "execution_count": 11,
   "metadata": {
    "collapsed": false
   },
   "outputs": [
    {
     "data": {
      "text/plain": [
       "(3998175, 127)"
      ]
     },
     "execution_count": 11,
     "metadata": {},
     "output_type": "execute_result"
    }
   ],
   "source": [
    "new_data.shape"
   ]
  },
  {
   "cell_type": "code",
   "execution_count": 12,
   "metadata": {
    "collapsed": false
   },
   "outputs": [
    {
     "data": {
      "text/plain": [
       "1    2706620\n",
       "2    1287900\n",
       "9       3655\n",
       "Name: dmeth_rec, dtype: int64"
      ]
     },
     "execution_count": 12,
     "metadata": {},
     "output_type": "execute_result"
    }
   ],
   "source": [
    "# Count vlues in delivery method in CDC data\n",
    "new_data.dmeth_rec.value_counts()"
   ]
  },
  {
   "cell_type": "code",
   "execution_count": 13,
   "metadata": {
    "collapsed": false
   },
   "outputs": [
    {
     "data": {
      "text/plain": [
       "Index([u'mrace15', u'mar_p', u'meduc', u'frace15', u'feduc', u'illb_r11',\n",
       "       u'ilop_r11', u'ilp_r11', u'precare5', u'wic', u'cig0_r', u'cig1_r',\n",
       "       u'cig2_r', u'cig3_r', u'cig_rec', u'm_ht_in', u'bmi_r', u'pwgt_r',\n",
       "       u'dwgt_r', u'rf_pdiab', u'rf_gdiab', u'rf_phype', u'rf_ghype',\n",
       "       u'rf_ehype', u'rf_ppterm', u'rf_inftr', u'rf_fedrg', u'rf_artec',\n",
       "       u'rf_cesar', u'rf_cesarn', u'no_risks', u'ip_gon', u'ip_syph',\n",
       "       u'ip_chlam', u'ip_hepatb', u'ip_hepatc', u'no_infec', u'ob_ecvs',\n",
       "       u'ob_ecvf', u'ld_indl', u'ld_augm', u'ld_ster', u'ld_antb', u'ld_chor',\n",
       "       u'ld_anes', u'no_lbrdlv', u'me_pres', u'me_trial', u'mm_mtr',\n",
       "       u'mm_plac', u'mm_rupt', u'mm_uhyst', u'mm_aicu', u'no_mmorb', u'mtran',\n",
       "       u'pay_rec', u'apgar10r', u'setorder_r', u'ab_aven1', u'ab_aven6',\n",
       "       u'ab_nicu', u'ab_surf', u'ab_anti', u'ab_seiz', u'no_abnorm',\n",
       "       u'ca_anen', u'ca_mnsb', u'ca_cchd', u'ca_cdh', u'ca_omph', u'ca_gast',\n",
       "       u'ca_limb', u'ca_cleft', u'ca_clpal', u'ca_downs', u'ca_disor',\n",
       "       u'ca_hypo', u'no_congen', u'itran', u'ilive', u'bfed'],\n",
       "      dtype='object')"
      ]
     },
     "execution_count": 13,
     "metadata": {},
     "output_type": "execute_result"
    }
   ],
   "source": [
    "new_data.columns[new_data.isnull().any()]"
   ]
  },
  {
   "cell_type": "code",
   "execution_count": 14,
   "metadata": {
    "collapsed": false
   },
   "outputs": [],
   "source": [
    "new_data.mrace15.fillna(15, inplace=True)\n",
    "new_data.mar_p.fillna('U', inplace=True)\n",
    "new_data.meduc.fillna(9, inplace=True)\n",
    "new_data.frace15.fillna(15, inplace=True)\n",
    "new_data.feduc.fillna('U', inplace=True)\n",
    "\n",
    "new_data.illb_r11.fillna(99, inplace=True)\n",
    "new_data.ilop_r11.fillna(99, inplace=True)\n",
    "new_data.ilp_r11.fillna(99, inplace=True)\n",
    "new_data.precare5.fillna(99, inplace=True)\n",
    "new_data.wic.fillna('U', inplace=True)\n",
    "\n",
    "new_data.cig0_r.fillna(6, inplace=True)\n",
    "new_data.cig1_r.fillna(6, inplace=True)\n",
    "new_data.cig2_r.fillna(6, inplace=True)\n",
    "new_data.cig3_r.fillna(6, inplace=True)\n",
    "new_data.cig_rec.fillna('U', inplace=True)\n",
    "\n",
    "\n",
    "new_data.m_ht_in.fillna(99, inplace=True)\n",
    "new_data.bmi_r.fillna(9, inplace=True)\n",
    "new_data.pwgt_r.fillna(999, inplace=True)\n",
    "new_data.dwgt_r.fillna(999, inplace=True)\n",
    "\n",
    "new_data.rf_pdiab.fillna('U', inplace=True)\n",
    "new_data.rf_gdiab.fillna('U', inplace=True)\n",
    "new_data.rf_phype.fillna('U', inplace=True)\n",
    "new_data.rf_ghype.fillna('U', inplace=True)\n",
    "new_data.rf_ehype.fillna('U', inplace=True)\n",
    "new_data.rf_ppterm.fillna('U', inplace=True)\n",
    "new_data.rf_inftr.fillna('U', inplace=True)\n",
    "new_data.rf_fedrg.fillna('U', inplace=True)\n",
    "new_data.rf_artec.fillna('U', inplace=True)\n",
    "new_data.rf_cesar.fillna('U', inplace=True)\n",
    "new_data.rf_cesarn.fillna('99', inplace=True)\n",
    "\n",
    "new_data.no_risks.fillna('9', inplace=True)\n",
    "\n",
    "new_data.ip_gon.fillna('U', inplace=True)\n",
    "new_data.ip_syph.fillna('U', inplace=True)\n",
    "new_data.ip_chlam.fillna('U', inplace=True)\n",
    "new_data.ip_hepatb.fillna('U', inplace=True)\n",
    "new_data.ip_hepatc.fillna('U', inplace=True)\n",
    "\n",
    "new_data.no_infec.fillna(9, inplace=True)\n",
    "new_data.ob_ecvs.fillna('U', inplace=True)\n",
    "new_data.ob_ecvf.fillna('U', inplace=True)\n",
    "\n",
    "new_data.ld_indl.fillna('U', inplace=True)\n",
    "new_data.ld_augm.fillna('U', inplace=True)\n",
    "new_data.ld_ster.fillna('U', inplace=True)\n",
    "new_data.ld_antb.fillna('U', inplace=True)\n",
    "new_data.ld_chor.fillna('U', inplace=True)\n",
    "new_data.ld_anes.fillna('U', inplace=True)\n",
    "\n",
    "new_data.no_lbrdlv.fillna(9, inplace=True)\n",
    "new_data.me_pres.fillna(9, inplace=True)\n",
    "\n",
    "new_data.me_trial.fillna('U', inplace=True)\n",
    "new_data.mm_mtr.fillna('U', inplace=True)\n",
    "new_data.mm_plac.fillna('U', inplace=True)\n",
    "new_data.mm_rupt.fillna('U', inplace=True)\n",
    "new_data.mm_uhyst.fillna('U', inplace=True)\n",
    "\n",
    "new_data.mm_aicu.fillna('U', inplace=True)\n",
    "new_data.no_mmorb.fillna(9, inplace=True)\n",
    "new_data.mtran.fillna('U', inplace=True)\n",
    "new_data.pay_rec.fillna(9, inplace=True)\n",
    "new_data.apgar10r.fillna(5, inplace=True)\n",
    "\n",
    "new_data.setorder_r.fillna(9, inplace=True)\n",
    "new_data.ab_aven1.fillna('U', inplace=True)\n",
    "new_data.ab_aven6.fillna('U', inplace=True)\n",
    "new_data.ab_nicu.fillna('U', inplace=True)\n",
    "new_data.ab_surf.fillna('U', inplace=True)\n",
    "\n",
    "new_data.ab_anti.fillna('U', inplace=True)\n",
    "new_data.ab_seiz.fillna('U', inplace=True)\n",
    "new_data.no_abnorm.fillna(9, inplace=True)\n",
    "\n",
    "new_data.ca_anen.fillna('U', inplace=True)\n",
    "new_data.ca_mnsb.fillna('U', inplace=True)\n",
    "\n",
    "new_data.ca_cchd.fillna('U', inplace=True)\n",
    "new_data.ca_cdh.fillna('U', inplace=True)\n",
    "new_data.ca_omph.fillna('U', inplace=True)\n",
    "new_data.ca_gast.fillna('U', inplace=True)\n",
    "new_data.ca_limb.fillna('U', inplace=True)\n",
    "\n",
    "new_data.ca_cleft.fillna('U', inplace=True)\n",
    "new_data.ca_clpal.fillna('U', inplace=True)\n",
    "new_data.ca_downs.fillna('U', inplace=True)\n",
    "new_data.ca_disor.fillna('U', inplace=True)\n",
    "new_data.ca_hypo.fillna('U', inplace=True)\n",
    "\n",
    "new_data.no_congen.fillna(9 , inplace=True)\n",
    "new_data.itran.fillna('U', inplace=True)\n",
    "new_data.ilive.fillna('U', inplace=True)\n",
    "new_data.bfed.fillna('U', inplace=True)\n"
   ]
  },
  {
   "cell_type": "code",
   "execution_count": 15,
   "metadata": {
    "collapsed": false
   },
   "outputs": [
    {
     "data": {
      "text/plain": [
       "Index([], dtype='object')"
      ]
     },
     "execution_count": 15,
     "metadata": {},
     "output_type": "execute_result"
    }
   ],
   "source": [
    "new_data.columns[new_data.isnull().any()]"
   ]
  },
  {
   "cell_type": "code",
   "execution_count": 16,
   "metadata": {
    "collapsed": false
   },
   "outputs": [
    {
     "data": {
      "text/plain": [
       "(3994520, 127)"
      ]
     },
     "execution_count": 16,
     "metadata": {},
     "output_type": "execute_result"
    }
   ],
   "source": [
    "# Drop axis with unknown method of delivery\n",
    "new_data = new_data.drop(new_data[new_data.dmeth_rec == 9].index)\n",
    "\n",
    "new_data.shape"
   ]
  },
  {
   "cell_type": "code",
   "execution_count": 17,
   "metadata": {
    "collapsed": false
   },
   "outputs": [
    {
     "data": {
      "text/plain": [
       "1    2706620\n",
       "2    1287900\n",
       "Name: dmeth_rec, dtype: int64"
      ]
     },
     "execution_count": 17,
     "metadata": {},
     "output_type": "execute_result"
    }
   ],
   "source": [
    "# Count vlues in delivery method in CDC data\n",
    "new_data.dmeth_rec.value_counts()"
   ]
  },
  {
   "cell_type": "code",
   "execution_count": 18,
   "metadata": {
    "collapsed": false
   },
   "outputs": [
    {
     "name": "stdout",
     "output_type": "stream",
     "text": [
      "New data exported successfully!\n"
     ]
    }
   ],
   "source": [
    "# Export new data frame as CSV file\n",
    "new_data.to_csv('data2014.csv')\n",
    "print \"New data exported successfully!\""
   ]
  },
  {
   "cell_type": "code",
   "execution_count": null,
   "metadata": {
    "collapsed": true
   },
   "outputs": [],
   "source": []
  }
 ],
 "metadata": {
  "kernelspec": {
   "display_name": "Python 2",
   "language": "python",
   "name": "python2"
  },
  "language_info": {
   "codemirror_mode": {
    "name": "ipython",
    "version": 2
   },
   "file_extension": ".py",
   "mimetype": "text/x-python",
   "name": "python",
   "nbconvert_exporter": "python",
   "pygments_lexer": "ipython2",
   "version": "2.7.13"
  }
 },
 "nbformat": 4,
 "nbformat_minor": 2
}

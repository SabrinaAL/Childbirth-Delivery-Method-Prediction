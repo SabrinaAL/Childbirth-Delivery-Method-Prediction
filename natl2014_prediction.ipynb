{
 "cells": [
  {
   "cell_type": "code",
   "execution_count": 49,
   "metadata": {
    "collapsed": true
   },
   "outputs": [],
   "source": [
    "# Import libraries\n",
    "import numpy as np\n",
    "import pandas as pd\n",
    "import prettyplots as vs\n",
    "import matplotlib.pyplot as plt\n",
    "\n",
    "# Pretty display for notebooks\n",
    "%matplotlib inline"
   ]
  },
  {
   "cell_type": "code",
   "execution_count": 50,
   "metadata": {
    "collapsed": false
   },
   "outputs": [
    {
     "name": "stdout",
     "output_type": "stream",
     "text": [
      "CDC Birth data read successfully!\n"
     ]
    }
   ],
   "source": [
    "# Read CDC Birth precessed data\n",
    "data = pd.read_csv('data2014.csv')\n",
    "print \"CDC Birth data read successfully!\""
   ]
  },
  {
   "cell_type": "code",
   "execution_count": 51,
   "metadata": {
    "collapsed": false,
    "scrolled": true
   },
   "outputs": [
    {
     "data": {
      "text/html": [
       "<div>\n",
       "<table border=\"1\" class=\"dataframe\">\n",
       "  <thead>\n",
       "    <tr style=\"text-align: right;\">\n",
       "      <th></th>\n",
       "      <th>Unnamed: 0</th>\n",
       "      <th>bfacil3</th>\n",
       "      <th>mager9</th>\n",
       "      <th>mbstate_rec</th>\n",
       "      <th>mrace15</th>\n",
       "      <th>mhisp_r</th>\n",
       "      <th>mar_p</th>\n",
       "      <th>dmar</th>\n",
       "      <th>meduc</th>\n",
       "      <th>fagerec11</th>\n",
       "      <th>...</th>\n",
       "      <th>ume_forcep</th>\n",
       "      <th>ume_vac</th>\n",
       "      <th>uop_induc</th>\n",
       "      <th>uld_breech</th>\n",
       "      <th>uca_anen</th>\n",
       "      <th>uca_spina</th>\n",
       "      <th>uca_ompha</th>\n",
       "      <th>uca_cleftlp</th>\n",
       "      <th>uca_hernia</th>\n",
       "      <th>uca_downs</th>\n",
       "    </tr>\n",
       "  </thead>\n",
       "  <tbody>\n",
       "    <tr>\n",
       "      <th>0</th>\n",
       "      <td>0</td>\n",
       "      <td>1</td>\n",
       "      <td>4</td>\n",
       "      <td>1</td>\n",
       "      <td>1.0</td>\n",
       "      <td>0</td>\n",
       "      <td>X</td>\n",
       "      <td>1</td>\n",
       "      <td>7.0</td>\n",
       "      <td>6</td>\n",
       "      <td>...</td>\n",
       "      <td>2</td>\n",
       "      <td>2</td>\n",
       "      <td>1</td>\n",
       "      <td>2</td>\n",
       "      <td>2</td>\n",
       "      <td>2</td>\n",
       "      <td>2</td>\n",
       "      <td>2</td>\n",
       "      <td>2</td>\n",
       "      <td>2</td>\n",
       "    </tr>\n",
       "    <tr>\n",
       "      <th>1</th>\n",
       "      <td>1</td>\n",
       "      <td>1</td>\n",
       "      <td>4</td>\n",
       "      <td>1</td>\n",
       "      <td>3.0</td>\n",
       "      <td>0</td>\n",
       "      <td>N</td>\n",
       "      <td>2</td>\n",
       "      <td>3.0</td>\n",
       "      <td>11</td>\n",
       "      <td>...</td>\n",
       "      <td>2</td>\n",
       "      <td>2</td>\n",
       "      <td>1</td>\n",
       "      <td>2</td>\n",
       "      <td>2</td>\n",
       "      <td>2</td>\n",
       "      <td>2</td>\n",
       "      <td>2</td>\n",
       "      <td>2</td>\n",
       "      <td>2</td>\n",
       "    </tr>\n",
       "    <tr>\n",
       "      <th>2</th>\n",
       "      <td>2</td>\n",
       "      <td>1</td>\n",
       "      <td>3</td>\n",
       "      <td>1</td>\n",
       "      <td>1.0</td>\n",
       "      <td>0</td>\n",
       "      <td>X</td>\n",
       "      <td>1</td>\n",
       "      <td>4.0</td>\n",
       "      <td>3</td>\n",
       "      <td>...</td>\n",
       "      <td>2</td>\n",
       "      <td>2</td>\n",
       "      <td>1</td>\n",
       "      <td>2</td>\n",
       "      <td>2</td>\n",
       "      <td>2</td>\n",
       "      <td>2</td>\n",
       "      <td>2</td>\n",
       "      <td>2</td>\n",
       "      <td>2</td>\n",
       "    </tr>\n",
       "    <tr>\n",
       "      <th>3</th>\n",
       "      <td>3</td>\n",
       "      <td>1</td>\n",
       "      <td>3</td>\n",
       "      <td>1</td>\n",
       "      <td>2.0</td>\n",
       "      <td>0</td>\n",
       "      <td>N</td>\n",
       "      <td>2</td>\n",
       "      <td>5.0</td>\n",
       "      <td>11</td>\n",
       "      <td>...</td>\n",
       "      <td>2</td>\n",
       "      <td>2</td>\n",
       "      <td>1</td>\n",
       "      <td>2</td>\n",
       "      <td>2</td>\n",
       "      <td>2</td>\n",
       "      <td>2</td>\n",
       "      <td>2</td>\n",
       "      <td>2</td>\n",
       "      <td>2</td>\n",
       "    </tr>\n",
       "    <tr>\n",
       "      <th>4</th>\n",
       "      <td>4</td>\n",
       "      <td>1</td>\n",
       "      <td>4</td>\n",
       "      <td>1</td>\n",
       "      <td>1.0</td>\n",
       "      <td>0</td>\n",
       "      <td>X</td>\n",
       "      <td>1</td>\n",
       "      <td>5.0</td>\n",
       "      <td>4</td>\n",
       "      <td>...</td>\n",
       "      <td>2</td>\n",
       "      <td>2</td>\n",
       "      <td>2</td>\n",
       "      <td>2</td>\n",
       "      <td>2</td>\n",
       "      <td>2</td>\n",
       "      <td>2</td>\n",
       "      <td>2</td>\n",
       "      <td>2</td>\n",
       "      <td>2</td>\n",
       "    </tr>\n",
       "  </tbody>\n",
       "</table>\n",
       "<p>5 rows × 128 columns</p>\n",
       "</div>"
      ],
      "text/plain": [
       "   Unnamed: 0  bfacil3  mager9  mbstate_rec  mrace15  mhisp_r mar_p  dmar  \\\n",
       "0           0        1       4            1      1.0        0     X     1   \n",
       "1           1        1       4            1      3.0        0     N     2   \n",
       "2           2        1       3            1      1.0        0     X     1   \n",
       "3           3        1       3            1      2.0        0     N     2   \n",
       "4           4        1       4            1      1.0        0     X     1   \n",
       "\n",
       "   meduc  fagerec11    ...      ume_forcep  ume_vac uop_induc  uld_breech  \\\n",
       "0    7.0          6    ...               2        2         1           2   \n",
       "1    3.0         11    ...               2        2         1           2   \n",
       "2    4.0          3    ...               2        2         1           2   \n",
       "3    5.0         11    ...               2        2         1           2   \n",
       "4    5.0          4    ...               2        2         2           2   \n",
       "\n",
       "   uca_anen  uca_spina  uca_ompha  uca_cleftlp  uca_hernia  uca_downs  \n",
       "0         2          2          2            2           2          2  \n",
       "1         2          2          2            2           2          2  \n",
       "2         2          2          2            2           2          2  \n",
       "3         2          2          2            2           2          2  \n",
       "4         2          2          2            2           2          2  \n",
       "\n",
       "[5 rows x 128 columns]"
      ]
     },
     "execution_count": 51,
     "metadata": {},
     "output_type": "execute_result"
    }
   ],
   "source": [
    "data.head()"
   ]
  },
  {
   "cell_type": "code",
   "execution_count": 52,
   "metadata": {
    "collapsed": false
   },
   "outputs": [
    {
     "data": {
      "text/plain": [
       "(3994520, 128)"
      ]
     },
     "execution_count": 52,
     "metadata": {},
     "output_type": "execute_result"
    }
   ],
   "source": [
    "data.shape"
   ]
  },
  {
   "cell_type": "code",
   "execution_count": 53,
   "metadata": {
    "collapsed": false
   },
   "outputs": [
    {
     "data": {
      "text/html": [
       "<div>\n",
       "<table border=\"1\" class=\"dataframe\">\n",
       "  <thead>\n",
       "    <tr style=\"text-align: right;\">\n",
       "      <th></th>\n",
       "      <th>bfacil3</th>\n",
       "      <th>mager9</th>\n",
       "      <th>mbstate_rec</th>\n",
       "      <th>mrace15</th>\n",
       "      <th>mhisp_r</th>\n",
       "      <th>mar_p</th>\n",
       "      <th>dmar</th>\n",
       "      <th>meduc</th>\n",
       "      <th>fagerec11</th>\n",
       "      <th>frace15</th>\n",
       "      <th>...</th>\n",
       "      <th>ume_forcep</th>\n",
       "      <th>ume_vac</th>\n",
       "      <th>uop_induc</th>\n",
       "      <th>uld_breech</th>\n",
       "      <th>uca_anen</th>\n",
       "      <th>uca_spina</th>\n",
       "      <th>uca_ompha</th>\n",
       "      <th>uca_cleftlp</th>\n",
       "      <th>uca_hernia</th>\n",
       "      <th>uca_downs</th>\n",
       "    </tr>\n",
       "  </thead>\n",
       "  <tbody>\n",
       "    <tr>\n",
       "      <th>0</th>\n",
       "      <td>1</td>\n",
       "      <td>4</td>\n",
       "      <td>1</td>\n",
       "      <td>1.0</td>\n",
       "      <td>0</td>\n",
       "      <td>X</td>\n",
       "      <td>1</td>\n",
       "      <td>7.0</td>\n",
       "      <td>6</td>\n",
       "      <td>1.0</td>\n",
       "      <td>...</td>\n",
       "      <td>2</td>\n",
       "      <td>2</td>\n",
       "      <td>1</td>\n",
       "      <td>2</td>\n",
       "      <td>2</td>\n",
       "      <td>2</td>\n",
       "      <td>2</td>\n",
       "      <td>2</td>\n",
       "      <td>2</td>\n",
       "      <td>2</td>\n",
       "    </tr>\n",
       "    <tr>\n",
       "      <th>1</th>\n",
       "      <td>1</td>\n",
       "      <td>4</td>\n",
       "      <td>1</td>\n",
       "      <td>3.0</td>\n",
       "      <td>0</td>\n",
       "      <td>N</td>\n",
       "      <td>2</td>\n",
       "      <td>3.0</td>\n",
       "      <td>11</td>\n",
       "      <td>99.0</td>\n",
       "      <td>...</td>\n",
       "      <td>2</td>\n",
       "      <td>2</td>\n",
       "      <td>1</td>\n",
       "      <td>2</td>\n",
       "      <td>2</td>\n",
       "      <td>2</td>\n",
       "      <td>2</td>\n",
       "      <td>2</td>\n",
       "      <td>2</td>\n",
       "      <td>2</td>\n",
       "    </tr>\n",
       "    <tr>\n",
       "      <th>2</th>\n",
       "      <td>1</td>\n",
       "      <td>3</td>\n",
       "      <td>1</td>\n",
       "      <td>1.0</td>\n",
       "      <td>0</td>\n",
       "      <td>X</td>\n",
       "      <td>1</td>\n",
       "      <td>4.0</td>\n",
       "      <td>3</td>\n",
       "      <td>1.0</td>\n",
       "      <td>...</td>\n",
       "      <td>2</td>\n",
       "      <td>2</td>\n",
       "      <td>1</td>\n",
       "      <td>2</td>\n",
       "      <td>2</td>\n",
       "      <td>2</td>\n",
       "      <td>2</td>\n",
       "      <td>2</td>\n",
       "      <td>2</td>\n",
       "      <td>2</td>\n",
       "    </tr>\n",
       "    <tr>\n",
       "      <th>3</th>\n",
       "      <td>1</td>\n",
       "      <td>3</td>\n",
       "      <td>1</td>\n",
       "      <td>2.0</td>\n",
       "      <td>0</td>\n",
       "      <td>N</td>\n",
       "      <td>2</td>\n",
       "      <td>5.0</td>\n",
       "      <td>11</td>\n",
       "      <td>99.0</td>\n",
       "      <td>...</td>\n",
       "      <td>2</td>\n",
       "      <td>2</td>\n",
       "      <td>1</td>\n",
       "      <td>2</td>\n",
       "      <td>2</td>\n",
       "      <td>2</td>\n",
       "      <td>2</td>\n",
       "      <td>2</td>\n",
       "      <td>2</td>\n",
       "      <td>2</td>\n",
       "    </tr>\n",
       "    <tr>\n",
       "      <th>4</th>\n",
       "      <td>1</td>\n",
       "      <td>4</td>\n",
       "      <td>1</td>\n",
       "      <td>1.0</td>\n",
       "      <td>0</td>\n",
       "      <td>X</td>\n",
       "      <td>1</td>\n",
       "      <td>5.0</td>\n",
       "      <td>4</td>\n",
       "      <td>1.0</td>\n",
       "      <td>...</td>\n",
       "      <td>2</td>\n",
       "      <td>2</td>\n",
       "      <td>2</td>\n",
       "      <td>2</td>\n",
       "      <td>2</td>\n",
       "      <td>2</td>\n",
       "      <td>2</td>\n",
       "      <td>2</td>\n",
       "      <td>2</td>\n",
       "      <td>2</td>\n",
       "    </tr>\n",
       "  </tbody>\n",
       "</table>\n",
       "<p>5 rows × 127 columns</p>\n",
       "</div>"
      ],
      "text/plain": [
       "   bfacil3  mager9  mbstate_rec  mrace15  mhisp_r mar_p  dmar  meduc  \\\n",
       "0        1       4            1      1.0        0     X     1    7.0   \n",
       "1        1       4            1      3.0        0     N     2    3.0   \n",
       "2        1       3            1      1.0        0     X     1    4.0   \n",
       "3        1       3            1      2.0        0     N     2    5.0   \n",
       "4        1       4            1      1.0        0     X     1    5.0   \n",
       "\n",
       "   fagerec11  frace15    ...      ume_forcep ume_vac  uop_induc  uld_breech  \\\n",
       "0          6      1.0    ...               2       2          1           2   \n",
       "1         11     99.0    ...               2       2          1           2   \n",
       "2          3      1.0    ...               2       2          1           2   \n",
       "3         11     99.0    ...               2       2          1           2   \n",
       "4          4      1.0    ...               2       2          2           2   \n",
       "\n",
       "   uca_anen  uca_spina  uca_ompha  uca_cleftlp  uca_hernia  uca_downs  \n",
       "0         2          2          2            2           2          2  \n",
       "1         2          2          2            2           2          2  \n",
       "2         2          2          2            2           2          2  \n",
       "3         2          2          2            2           2          2  \n",
       "4         2          2          2            2           2          2  \n",
       "\n",
       "[5 rows x 127 columns]"
      ]
     },
     "execution_count": 53,
     "metadata": {},
     "output_type": "execute_result"
    }
   ],
   "source": [
    "# Drop first unnamed column\n",
    "data=data.drop(data.columns[[0]], axis=1)\n",
    "\n",
    "data.head()\n"
   ]
  },
  {
   "cell_type": "code",
   "execution_count": 7,
   "metadata": {
    "collapsed": false
   },
   "outputs": [
    {
     "name": "stdout",
     "output_type": "stream",
     "text": [
      "Total number of patients: 3994520\n",
      "Number of features: 126\n",
      "Number of patients who had Vaginal delivery: 2706620\n",
      "Number of patients who had C-Section: 1287900\n",
      "C-Section delivery rate: 32.24%\n"
     ]
    }
   ],
   "source": [
    "# Calculate number of patients\n",
    "n_patients = data.shape[0]\n",
    "\n",
    "# Calculate number of features\n",
    "n_features = data.shape[1] - 1\n",
    "\n",
    "# Calculate number of Vaginal deliveries\n",
    "V_del = data.loc[data['dmeth_rec'] == 1]\n",
    "n_V_del= V_del.shape[0]\n",
    "\n",
    "# Calculate number of C-section deliveries\n",
    "C_del = data.loc[data['dmeth_rec'] == 2]\n",
    "n_C_del= C_del.shape[0]\n",
    "\n",
    "# Calculate C-section delivey rate\n",
    "C_del_rate = float ( n_C_del ) / n_patients * 100\n",
    "\n",
    "# Print the results\n",
    "print \"Total number of patients: {}\".format(n_patients)\n",
    "print \"Number of features: {}\".format(n_features)\n",
    "print \"Number of patients who had Vaginal delivery: {}\".format(n_V_del)\n",
    "print \"Number of patients who had C-Section: {}\".format(n_C_del)\n",
    "print \"C-Section delivery rate: {:.2f}%\".format(C_del_rate)"
   ]
  },
  {
   "cell_type": "code",
   "execution_count": 54,
   "metadata": {
    "collapsed": false
   },
   "outputs": [
    {
     "data": {
      "text/plain": [
       "(3087737, 126)"
      ]
     },
     "execution_count": 54,
     "metadata": {},
     "output_type": "execute_result"
    }
   ],
   "source": [
    "# Drop rows where there was no attempt in labor and then drop that columns \n",
    "data_no_trial= data.drop(data[data.me_trial == 'N'].index)\n",
    "df=data_no_trial.drop('me_trial', axis=1)\n",
    "df.shape"
   ]
  },
  {
   "cell_type": "code",
   "execution_count": 9,
   "metadata": {
    "collapsed": false
   },
   "outputs": [
    {
     "data": {
      "text/plain": [
       "1    2706620\n",
       "2     381117\n",
       "Name: dmeth_rec, dtype: int64"
      ]
     },
     "execution_count": 9,
     "metadata": {},
     "output_type": "execute_result"
    }
   ],
   "source": [
    "df.dmeth_rec.value_counts()"
   ]
  },
  {
   "cell_type": "code",
   "execution_count": 55,
   "metadata": {
    "collapsed": false
   },
   "outputs": [],
   "source": [
    "# Extract feature columns\n",
    "X_all = df.drop('dmeth_rec', axis = 1)\n",
    "\n",
    "# Extract target column of delivery method\n",
    "y_all = df['dmeth_rec'] \n"
   ]
  },
  {
   "cell_type": "code",
   "execution_count": 60,
   "metadata": {
    "collapsed": false,
    "scrolled": true
   },
   "outputs": [
    {
     "name": "stdout",
     "output_type": "stream",
     "text": [
      "Processed feature columns (255 total features):\n",
      "['bfacil3', 'mager9', 'mbstate_rec', 'mrace15', 'mhisp_r', 'mar_p_N', 'mar_p_U', 'mar_p_X', 'mar_p_Y', 'dmar', 'meduc', 'fagerec11', 'frace15', 'fhisp_r', 'feduc_1.0', 'feduc_2.0', 'feduc_3.0', 'feduc_4.0', 'feduc_5.0', 'feduc_6.0', 'feduc_7.0', 'feduc_8.0', 'feduc_9.0', 'feduc_1.0', 'feduc_2.0', 'feduc_3.0', 'feduc_4.0', 'feduc_5.0', 'feduc_6.0', 'feduc_7.0', 'feduc_8.0', 'feduc_9.0', 'feduc_U', 'priorlive', 'priordead', 'priorterm', 'lbo_rec', 'tbo_rec', 'illb_r11', 'ilop_r11', 'ilp_r11', 'precare5', 'previs_rec', 'wic_N', 'wic_U', 'wic_Y', 'cig0_r', 'cig1_r', 'cig2_r', 'cig3_r', 'cig_rec_N', 'cig_rec_U', 'cig_rec_Y', 'm_ht_in', 'bmi_r', 'pwgt_r', 'dwgt_r', 'wtgain_rec', 'rf_pdiab_N', 'rf_pdiab_U', 'rf_pdiab_Y', 'rf_gdiab_N', 'rf_gdiab_U', 'rf_gdiab_Y', 'rf_phype_N', 'rf_phype_U', 'rf_phype_Y', 'rf_ghype_N', 'rf_ghype_U', 'rf_ghype_Y', 'rf_ehype_N', 'rf_ehype_U', 'rf_ehype_Y', 'rf_ppterm_N', 'rf_ppterm_U', 'rf_ppterm_Y', 'rf_inftr_N', 'rf_inftr_U', 'rf_inftr_Y', 'rf_fedrg_N', 'rf_fedrg_U', 'rf_fedrg_X', 'rf_fedrg_Y', 'rf_artec_N', 'rf_artec_U', 'rf_artec_X', 'rf_artec_Y', 'f_rf_inft', 'rf_cesar_N', 'rf_cesar_U', 'rf_cesar_Y', 'rf_cesarn', 'no_risks', 'ip_gon_N', 'ip_gon_U', 'ip_gon_Y', 'ip_syph_N', 'ip_syph_U', 'ip_syph_Y', 'ip_chlam_N', 'ip_chlam_U', 'ip_chlam_Y', 'ip_hepatb_N', 'ip_hepatb_U', 'ip_hepatb_Y', 'ip_hepatc_N', 'ip_hepatc_U', 'ip_hepatc_Y', 'no_infec', 'ob_ecvs_N', 'ob_ecvs_U', 'ob_ecvs_Y', 'ob_ecvf_N', 'ob_ecvf_U', 'ob_ecvf_Y', 'ld_indl_N', 'ld_indl_U', 'ld_indl_Y', 'ld_augm_N', 'ld_augm_U', 'ld_augm_Y', 'ld_ster_N', 'ld_ster_U', 'ld_ster_Y', 'ld_antb_N', 'ld_antb_U', 'ld_antb_Y', 'ld_chor_N', 'ld_chor_U', 'ld_chor_Y', 'ld_anes_N', 'ld_anes_U', 'ld_anes_Y', 'no_lbrdlv', 'me_pres', 'mm_mtr_N', 'mm_mtr_U', 'mm_mtr_Y', 'mm_plac_N', 'mm_plac_U', 'mm_plac_Y', 'mm_rupt_N', 'mm_rupt_U', 'mm_rupt_Y', 'mm_uhyst_N', 'mm_uhyst_U', 'mm_uhyst_Y', 'mm_aicu_N', 'mm_aicu_U', 'mm_aicu_Y', 'f_mm_', 'f_mm_uhyst', 'no_mmorb', 'attend', 'mtran_N', 'mtran_U', 'mtran_Y', 'pay_rec', 'f_pay', 'apgar5r', 'apgar10r', 'dplural', 'setorder_r', 'sex_F', 'sex_M', 'dlmp_mm', 'dlmp_yy', 'gestrec10', 'oegest_r10', 'dbwt', 'bwtr4', 'ab_aven1_N', 'ab_aven1_U', 'ab_aven1_Y', 'ab_aven6_N', 'ab_aven6_U', 'ab_aven6_Y', 'ab_nicu_N', 'ab_nicu_U', 'ab_nicu_Y', 'ab_surf_N', 'ab_surf_U', 'ab_surf_Y', 'ab_anti_N', 'ab_anti_U', 'ab_anti_Y', 'ab_seiz_N', 'ab_seiz_U', 'ab_seiz_Y', 'no_abnorm', 'ca_anen_N', 'ca_anen_U', 'ca_anen_Y', 'ca_mnsb_N', 'ca_mnsb_U', 'ca_mnsb_Y', 'ca_cchd_N', 'ca_cchd_U', 'ca_cchd_Y', 'ca_cdh_N', 'ca_cdh_U', 'ca_cdh_Y', 'ca_omph_N', 'ca_omph_U', 'ca_omph_Y', 'ca_gast_N', 'ca_gast_U', 'ca_gast_Y', 'ca_limb_N', 'ca_limb_U', 'ca_limb_Y', 'ca_cleft_N', 'ca_cleft_U', 'ca_cleft_Y', 'ca_clpal_N', 'ca_clpal_U', 'ca_clpal_Y', 'ca_downs_C', 'ca_downs_N', 'ca_downs_P', 'ca_downs_U', 'ca_disor_C', 'ca_disor_N', 'ca_disor_P', 'ca_disor_U', 'ca_hypo_N', 'ca_hypo_U', 'ca_hypo_Y', 'f_ca_cleft', 'f_ca_hypos', 'no_congen', 'itran_N', 'itran_U', 'itran_Y', 'ilive_N', 'ilive_U', 'ilive_Y', 'bfed_N', 'bfed_U', 'bfed_Y', 'ubfacil', 'urf_diab', 'urf_chyper', 'urf_phyper', 'urf_eclam', 'ume_forcep', 'ume_vac', 'uop_induc', 'uld_breech', 'uca_anen', 'uca_spina', 'uca_ompha', 'uca_cleftlp', 'uca_hernia', 'uca_downs']\n",
      "\n",
      "Feature values after trasformation:\n",
      "   bfacil3  mager9  mbstate_rec  mrace15  mhisp_r  mar_p_N  mar_p_U  mar_p_X  \\\n",
      "0        1       4            1      1.0        0        0        0        1   \n",
      "1        1       4            1      3.0        0        1        0        0   \n",
      "2        1       3            1      1.0        0        0        0        1   \n",
      "3        1       3            1      2.0        0        1        0        0   \n",
      "4        1       4            1      1.0        0        0        0        1   \n",
      "\n",
      "   mar_p_Y  dmar    ...      ume_forcep  ume_vac  uop_induc  uld_breech  \\\n",
      "0        0     1    ...               2        2          1           2   \n",
      "1        0     2    ...               2        2          1           2   \n",
      "2        0     1    ...               2        2          1           2   \n",
      "3        0     2    ...               2        2          1           2   \n",
      "4        0     1    ...               2        2          2           2   \n",
      "\n",
      "   uca_anen  uca_spina  uca_ompha  uca_cleftlp  uca_hernia  uca_downs  \n",
      "0         2          2          2            2           2          2  \n",
      "1         2          2          2            2           2          2  \n",
      "2         2          2          2            2           2          2  \n",
      "3         2          2          2            2           2          2  \n",
      "4         2          2          2            2           2          2  \n",
      "\n",
      "[5 rows x 255 columns]\n"
     ]
    }
   ],
   "source": [
    "X_all = vs.PreprocessFeatures(X_all)\n",
    "print \"Processed feature columns ({} total features):\\n{}\".format(len(X_all.columns), list(X_all.columns))\n",
    "print \"\\nFeature values after trasformation:\"\n",
    "print X_all.head()"
   ]
  },
  {
   "cell_type": "code",
   "execution_count": 62,
   "metadata": {
    "collapsed": false
   },
   "outputs": [
    {
     "name": "stdout",
     "output_type": "stream",
     "text": [
      "Original dataset shape Counter({1: 2706620, 2: 381117})\n",
      "Resampled dataset shape Counter({1: 381117, 2: 381117})\n"
     ]
    }
   ],
   "source": [
    "from imblearn.under_sampling import RandomUnderSampler \n",
    "from collections import Counter\n",
    "rus = RandomUnderSampler(random_state=42)\n",
    "X_res, y_res = rus.fit_sample(X_all, y_all)\n",
    "print('Original dataset shape {}'.format(Counter(y_all)))\n",
    "print('Resampled dataset shape {}'.format(Counter(y_res)))"
   ]
  },
  {
   "cell_type": "code",
   "execution_count": 117,
   "metadata": {
    "collapsed": false
   },
   "outputs": [
    {
     "data": {
      "text/plain": [
       "0.0"
      ]
     },
     "execution_count": 117,
     "metadata": {},
     "output_type": "execute_result"
    }
   ],
   "source": [
    "0.141"
   ]
  },
  {
   "cell_type": "code",
   "execution_count": 102,
   "metadata": {
    "collapsed": false,
    "scrolled": false
   },
   "outputs": [
    {
     "data": {
      "text/html": [
       "<div>\n",
       "<table border=\"1\" class=\"dataframe\">\n",
       "  <thead>\n",
       "    <tr style=\"text-align: right;\">\n",
       "      <th></th>\n",
       "      <th>bfacil3</th>\n",
       "      <th>mager9</th>\n",
       "      <th>mbstate_rec</th>\n",
       "      <th>mrace15</th>\n",
       "      <th>mhisp_r</th>\n",
       "      <th>mar_p_N</th>\n",
       "      <th>mar_p_U</th>\n",
       "      <th>mar_p_X</th>\n",
       "      <th>mar_p_Y</th>\n",
       "      <th>dmar</th>\n",
       "      <th>...</th>\n",
       "      <th>ume_vac</th>\n",
       "      <th>uop_induc</th>\n",
       "      <th>uld_breech</th>\n",
       "      <th>uca_anen</th>\n",
       "      <th>uca_spina</th>\n",
       "      <th>uca_ompha</th>\n",
       "      <th>uca_cleftlp</th>\n",
       "      <th>uca_hernia</th>\n",
       "      <th>uca_downs</th>\n",
       "      <th>dmeth_rec</th>\n",
       "    </tr>\n",
       "  </thead>\n",
       "  <tbody>\n",
       "    <tr>\n",
       "      <th>0</th>\n",
       "      <td>1.0</td>\n",
       "      <td>3.0</td>\n",
       "      <td>1.0</td>\n",
       "      <td>2.0</td>\n",
       "      <td>0.0</td>\n",
       "      <td>1.0</td>\n",
       "      <td>0.0</td>\n",
       "      <td>0.0</td>\n",
       "      <td>0.0</td>\n",
       "      <td>2.0</td>\n",
       "      <td>...</td>\n",
       "      <td>2.0</td>\n",
       "      <td>1.0</td>\n",
       "      <td>2.0</td>\n",
       "      <td>2.0</td>\n",
       "      <td>2.0</td>\n",
       "      <td>2.0</td>\n",
       "      <td>2.0</td>\n",
       "      <td>2.0</td>\n",
       "      <td>2.0</td>\n",
       "      <td>2</td>\n",
       "    </tr>\n",
       "    <tr>\n",
       "      <th>1</th>\n",
       "      <td>1.0</td>\n",
       "      <td>3.0</td>\n",
       "      <td>1.0</td>\n",
       "      <td>2.0</td>\n",
       "      <td>0.0</td>\n",
       "      <td>0.0</td>\n",
       "      <td>0.0</td>\n",
       "      <td>1.0</td>\n",
       "      <td>0.0</td>\n",
       "      <td>1.0</td>\n",
       "      <td>...</td>\n",
       "      <td>2.0</td>\n",
       "      <td>1.0</td>\n",
       "      <td>2.0</td>\n",
       "      <td>2.0</td>\n",
       "      <td>2.0</td>\n",
       "      <td>2.0</td>\n",
       "      <td>2.0</td>\n",
       "      <td>2.0</td>\n",
       "      <td>2.0</td>\n",
       "      <td>2</td>\n",
       "    </tr>\n",
       "    <tr>\n",
       "      <th>2</th>\n",
       "      <td>1.0</td>\n",
       "      <td>6.0</td>\n",
       "      <td>1.0</td>\n",
       "      <td>1.0</td>\n",
       "      <td>0.0</td>\n",
       "      <td>0.0</td>\n",
       "      <td>0.0</td>\n",
       "      <td>1.0</td>\n",
       "      <td>0.0</td>\n",
       "      <td>1.0</td>\n",
       "      <td>...</td>\n",
       "      <td>2.0</td>\n",
       "      <td>1.0</td>\n",
       "      <td>2.0</td>\n",
       "      <td>2.0</td>\n",
       "      <td>2.0</td>\n",
       "      <td>2.0</td>\n",
       "      <td>2.0</td>\n",
       "      <td>2.0</td>\n",
       "      <td>2.0</td>\n",
       "      <td>2</td>\n",
       "    </tr>\n",
       "    <tr>\n",
       "      <th>3</th>\n",
       "      <td>1.0</td>\n",
       "      <td>4.0</td>\n",
       "      <td>1.0</td>\n",
       "      <td>15.0</td>\n",
       "      <td>0.0</td>\n",
       "      <td>0.0</td>\n",
       "      <td>0.0</td>\n",
       "      <td>0.0</td>\n",
       "      <td>1.0</td>\n",
       "      <td>2.0</td>\n",
       "      <td>...</td>\n",
       "      <td>2.0</td>\n",
       "      <td>2.0</td>\n",
       "      <td>2.0</td>\n",
       "      <td>2.0</td>\n",
       "      <td>2.0</td>\n",
       "      <td>2.0</td>\n",
       "      <td>2.0</td>\n",
       "      <td>2.0</td>\n",
       "      <td>2.0</td>\n",
       "      <td>2</td>\n",
       "    </tr>\n",
       "    <tr>\n",
       "      <th>4</th>\n",
       "      <td>1.0</td>\n",
       "      <td>5.0</td>\n",
       "      <td>1.0</td>\n",
       "      <td>1.0</td>\n",
       "      <td>0.0</td>\n",
       "      <td>0.0</td>\n",
       "      <td>0.0</td>\n",
       "      <td>1.0</td>\n",
       "      <td>0.0</td>\n",
       "      <td>1.0</td>\n",
       "      <td>...</td>\n",
       "      <td>2.0</td>\n",
       "      <td>2.0</td>\n",
       "      <td>2.0</td>\n",
       "      <td>2.0</td>\n",
       "      <td>2.0</td>\n",
       "      <td>2.0</td>\n",
       "      <td>2.0</td>\n",
       "      <td>2.0</td>\n",
       "      <td>2.0</td>\n",
       "      <td>2</td>\n",
       "    </tr>\n",
       "  </tbody>\n",
       "</table>\n",
       "<p>5 rows × 256 columns</p>\n",
       "</div>"
      ],
      "text/plain": [
       "   bfacil3  mager9  mbstate_rec  mrace15  mhisp_r  mar_p_N  mar_p_U  mar_p_X  \\\n",
       "0      1.0     3.0          1.0      2.0      0.0      1.0      0.0      0.0   \n",
       "1      1.0     3.0          1.0      2.0      0.0      0.0      0.0      1.0   \n",
       "2      1.0     6.0          1.0      1.0      0.0      0.0      0.0      1.0   \n",
       "3      1.0     4.0          1.0     15.0      0.0      0.0      0.0      0.0   \n",
       "4      1.0     5.0          1.0      1.0      0.0      0.0      0.0      1.0   \n",
       "\n",
       "   mar_p_Y  dmar    ...      ume_vac  uop_induc  uld_breech  uca_anen  \\\n",
       "0      0.0   2.0    ...          2.0        1.0         2.0       2.0   \n",
       "1      0.0   1.0    ...          2.0        1.0         2.0       2.0   \n",
       "2      0.0   1.0    ...          2.0        1.0         2.0       2.0   \n",
       "3      1.0   2.0    ...          2.0        2.0         2.0       2.0   \n",
       "4      0.0   1.0    ...          2.0        2.0         2.0       2.0   \n",
       "\n",
       "   uca_spina  uca_ompha  uca_cleftlp  uca_hernia  uca_downs  dmeth_rec  \n",
       "0        2.0        2.0          2.0         2.0        2.0          2  \n",
       "1        2.0        2.0          2.0         2.0        2.0          2  \n",
       "2        2.0        2.0          2.0         2.0        2.0          2  \n",
       "3        2.0        2.0          2.0         2.0        2.0          2  \n",
       "4        2.0        2.0          2.0         2.0        2.0          2  \n",
       "\n",
       "[5 rows x 256 columns]"
      ]
     },
     "execution_count": 102,
     "metadata": {},
     "output_type": "execute_result"
    }
   ],
   "source": [
    "data_res=pd.DataFrame(X_res, columns=list(X_all.columns))\n",
    "data_res2=pd.DataFrame({'dmeth_rec': y_res})\n",
    "data_res=pd.concat([data_res, data_res2], axis=1)\n",
    "data_res.head()\n"
   ]
  },
  {
   "cell_type": "code",
   "execution_count": 119,
   "metadata": {
    "collapsed": false
   },
   "outputs": [
    {
     "data": {
      "image/png": "[encoded data removed]",
      "text/plain": [
       "<matplotlib.figure.Figure at 0x175c75510>"
      ]
     },
     "metadata": {},
     "output_type": "display_data"
    }
   ],
   "source": [
    "Age_df_V=df.drop(df[df.dmeth_rec == 2].index)\n",
    "Age_V=list(Age_df_V['mager9']) \n",
    "\n",
    "age_v_1=Age_V.count(1)*0.141\n",
    "age_v_2=Age_V.count(2)*0.141\n",
    "age_v_3=Age_V.count(3)*0.141\n",
    "age_v_4=Age_V.count(4)*0.141\n",
    "age_v_5=Age_V.count(5)*0.141\n",
    "age_v_6=Age_V.count(6)*0.141\n",
    "age_v_7=Age_V.count(7)*0.141\n",
    "age_v_8=Age_V.count(8)*0.141\n",
    "age_v_9=Age_V.count(9)*0.141\n",
    "\n",
    "\n",
    "Age_df_CS=df.drop(df[df.dmeth_rec == 1].index)\n",
    "Age_CS=list(Age_df_CS['mager9'])\n",
    "\n",
    "age_cs_1=Age_CS.count(1)\n",
    "age_cs_2=Age_CS.count(2)\n",
    "age_cs_3=Age_CS.count(3)\n",
    "age_cs_4=Age_CS.count(4)\n",
    "age_cs_5=Age_CS.count(5)\n",
    "age_cs_6=Age_CS.count(6)\n",
    "age_cs_7=Age_CS.count(7)\n",
    "age_cs_8=Age_CS.count(8)\n",
    "age_cs_9=Age_CS.count(9)\n",
    "\n",
    "\n",
    " \n",
    "# data to plot\n",
    "n_groups = 9\n",
    "vag = (age_v_1, age_v_2, age_v_3, age_v_4, age_v_5, age_v_6, age_v_7, age_v_8, age_v_9)\n",
    "cs = (age_cs_1, age_cs_2, age_cs_3, age_cs_4, age_cs_5, age_cs_6, age_cs_7, age_cs_8, age_cs_9)\n",
    " \n",
    "# create plot\n",
    "fig, ax = plt.subplots()\n",
    "index = np.arange(n_groups)\n",
    "bar_width = 0.35\n",
    "opacity = 0.8\n",
    " \n",
    "rects1 = plt.bar(index, vag, bar_width,\n",
    "                 alpha=opacity,\n",
    "                 color='b',\n",
    "                 label='Vaginal')\n",
    " \n",
    "rects2 = plt.bar(index + bar_width, cs, bar_width,\n",
    "                 alpha=opacity,\n",
    "                 color='g',\n",
    "                 label='C-Section')\n",
    " \n",
    "plt.xlabel('Age')\n",
    "plt.ylabel('Number of Patients')\n",
    "plt.title('Patients Delivery Statistics With Age Feature')\n",
    "plt.xticks(index + bar_width, (' > 15', '15-19', '20-24', '25-29', '30-34', '35-39',\n",
    "                               '40-44', '45-49', '50-54'))\n",
    "plt.legend()\n",
    " \n",
    "plt.tight_layout()\n",
    "plt.show()"
   ]
  },
  {
   "cell_type": "code",
   "execution_count": 120,
   "metadata": {
    "collapsed": false
   },
   "outputs": [
    {
     "data": {
      "image/png": "[encoded data removed]",
      "text/plain": [
       "<matplotlib.figure.Figure at 0x175c4f9d0>"
      ]
     },
     "metadata": {},
     "output_type": "display_data"
    }
   ],
   "source": [
    "Age_df_V=data_res.drop(data_res[data_res.dmeth_rec == 2].index)\n",
    "Age_V=list(Age_df_V['mager9']) \n",
    "\n",
    "age_v_1=Age_V.count(1)\n",
    "age_v_2=Age_V.count(2)\n",
    "age_v_3=Age_V.count(3)\n",
    "age_v_4=Age_V.count(4)\n",
    "age_v_5=Age_V.count(5)\n",
    "age_v_6=Age_V.count(6)\n",
    "age_v_7=Age_V.count(7)\n",
    "age_v_8=Age_V.count(8)\n",
    "age_v_9=Age_V.count(9)\n",
    "\n",
    "\n",
    "Age_df_CS=data_res.drop(data_res[data_res.dmeth_rec == 1].index)\n",
    "Age_CS=list(Age_df_CS['mager9'])\n",
    "\n",
    "age_cs_1=Age_CS.count(1)\n",
    "age_cs_2=Age_CS.count(2)\n",
    "age_cs_3=Age_CS.count(3)\n",
    "age_cs_4=Age_CS.count(4)\n",
    "age_cs_5=Age_CS.count(5)\n",
    "age_cs_6=Age_CS.count(6)\n",
    "age_cs_7=Age_CS.count(7)\n",
    "age_cs_8=Age_CS.count(8)\n",
    "age_cs_9=Age_CS.count(9)\n",
    "\n",
    "\n",
    " \n",
    "# data to plot\n",
    "n_groups = 9\n",
    "vag = (age_v_1, age_v_2, age_v_3, age_v_4, age_v_5, age_v_6, age_v_7, age_v_8, age_v_9)\n",
    "cs = (age_cs_1, age_cs_2, age_cs_3, age_cs_4, age_cs_5, age_cs_6, age_cs_7, age_cs_8, age_cs_9)\n",
    " \n",
    "# create plot\n",
    "fig, ax = plt.subplots()\n",
    "index = np.arange(n_groups)\n",
    "bar_width = 0.35\n",
    "opacity = 0.8\n",
    " \n",
    "rects1 = plt.bar(index, vag, bar_width,\n",
    "                 alpha=opacity,\n",
    "                 color='b',\n",
    "                 label='Vaginal')\n",
    " \n",
    "rects2 = plt.bar(index + bar_width, cs, bar_width,\n",
    "                 alpha=opacity,\n",
    "                 color='g',\n",
    "                 label='C-Section')\n",
    " \n",
    "plt.xlabel('Age')\n",
    "plt.ylabel('Number of Patients')\n",
    "plt.title('Patients Delivery Statistics With Age Feature')\n",
    "plt.xticks(index + bar_width, (' > 15', '15-19', '20-24', '25-29', '30-34', '35-39',\n",
    "                               '40-44', '45-49', '50-54'))\n",
    "plt.legend()\n",
    " \n",
    "plt.tight_layout()\n",
    "plt.show()"
   ]
  },
  {
   "cell_type": "code",
   "execution_count": 115,
   "metadata": {
    "collapsed": false
   },
   "outputs": [
    {
     "data": {
      "image/png": "[encoded data removed]",
      "text/plain": [
       "<matplotlib.figure.Figure at 0x168acc610>"
      ]
     },
     "metadata": {},
     "output_type": "display_data"
    }
   ],
   "source": [
    "Weight_df_V=data_res.drop(data_res[data_res.dmeth_rec == 2].index)\n",
    "Weight_V=list(Weight_df_V['wtgain_rec']) \n",
    "\n",
    "w_v_1=Weight_V.count(1)\n",
    "w_v_2=Weight_V.count(2)\n",
    "w_v_3=Weight_V.count(3)\n",
    "w_v_4=Weight_V.count(4)\n",
    "w_v_5=Weight_V.count(5)\n",
    "w_v_9=Weight_V.count(9)\n",
    "\n",
    "\n",
    "Weight_df_CS=data_res.drop(data_res[data_res.dmeth_rec == 1].index)\n",
    "Weight_CS=list(Weight_df_CS['wtgain_rec'])\n",
    "\n",
    "w_cs_1=Weight_CS.count(1)\n",
    "w_cs_2=Weight_CS.count(2)\n",
    "w_cs_3=Weight_CS.count(3)\n",
    "w_cs_4=Weight_CS.count(4)\n",
    "w_cs_5=Weight_CS.count(5)\n",
    "w_cs_9=Weight_CS.count(9)\n",
    "\n",
    "\n",
    " \n",
    "# data to plot\n",
    "n_groups = 6\n",
    "vag = (w_v_1, w_v_2, w_v_3, w_v_4, w_v_5, w_v_9)\n",
    "cs = (w_cs_1, w_cs_2, w_cs_3, w_cs_4, w_cs_5, w_cs_9)\n",
    " \n",
    "# create plot\n",
    "fig, ax = plt.subplots()\n",
    "index = np.arange(n_groups)\n",
    "bar_width = 0.35\n",
    "opacity = 0.8\n",
    " \n",
    "rects1 = plt.bar(index, vag, bar_width,\n",
    "                 alpha=opacity,\n",
    "                 color='b',\n",
    "                 label='Vaginal')\n",
    " \n",
    "rects2 = plt.bar(index + bar_width, cs, bar_width,\n",
    "                 alpha=opacity,\n",
    "                 color='g',\n",
    "                 label='C-Section')\n",
    " \n",
    "plt.xlabel('Weight')\n",
    "plt.ylabel('Number of Patients')\n",
    "plt.title('Patients Delivery Statistics With Weight Feature')\n",
    "plt.xticks(index + bar_width, (' > 11', '11-20', '21-30', '31-40', '41-98', 'Unknown'))\n",
    "plt.legend()\n",
    " \n",
    "plt.tight_layout()\n",
    "plt.show()"
   ]
  },
  {
   "cell_type": "code",
   "execution_count": 113,
   "metadata": {
    "collapsed": false
   },
   "outputs": [
    {
     "data": {
      "image/png": "[encoded data removed]",
      "text/plain": [
       "<matplotlib.figure.Figure at 0x127874110>"
      ]
     },
     "metadata": {},
     "output_type": "display_data"
    }
   ],
   "source": [
    "precare_df_V=data_res.drop(data_res[data_res.dmeth_rec == 2].index)\n",
    "\n",
    "precare_V=list(Weight_df_V['precare5']) \n",
    "\n",
    "w_v_1=precare_V.count(1)\n",
    "w_v_2=precare_V.count(2)\n",
    "w_v_3=precare_V.count(3)\n",
    "w_v_4=precare_V.count(4)\n",
    "w_v_5=precare_V.count(5)\n",
    "\n",
    "\n",
    "precare_df_CS=data_res.drop(data_res[data_res.dmeth_rec == 1].index)\n",
    "precare_CS=list(Weight_df_CS['precare5'])\n",
    "\n",
    "w_cs_1=precare_CS.count(1)\n",
    "w_cs_2=precare_CS.count(2)\n",
    "w_cs_3=precare_CS.count(3)\n",
    "w_cs_4=precare_CS.count(4)\n",
    "w_cs_5=precare_CS.count(5)\n",
    "\n",
    "\n",
    " \n",
    "# data to plot\n",
    "n_groups = 5\n",
    "vag = (w_v_1, w_v_2, w_v_3, w_v_4, w_v_5)\n",
    "cs = (w_cs_1, w_cs_2, w_cs_3, w_cs_4, w_cs_5)\n",
    " \n",
    "# create plot\n",
    "fig, ax = plt.subplots()\n",
    "index = np.arange(n_groups)\n",
    "bar_width = 0.35\n",
    "opacity = 0.8\n",
    " \n",
    "rects1 = plt.bar(index, vag, bar_width,\n",
    "                 alpha=opacity,\n",
    "                 color='b',\n",
    "                 label='Vaginal')\n",
    " \n",
    "rects2 = plt.bar(index + bar_width, cs, bar_width,\n",
    "                 alpha=opacity,\n",
    "                 color='g',\n",
    "                 label='C-Section')\n",
    " \n",
    "plt.xlabel('Prenatal Care')\n",
    "plt.ylabel('Number of Patients')\n",
    "plt.title('Patients Delivery Statistics With Prenatal Care')\n",
    "plt.xticks(index + bar_width, (' 1st-3rd', '4th-6th', '7th-final', 'No care', 'Unknown'))\n",
    "plt.legend()\n",
    " \n",
    "plt.tight_layout()\n",
    "plt.show()\n",
    "\n"
   ]
  },
  {
   "cell_type": "code",
   "execution_count": 64,
   "metadata": {
    "collapsed": false
   },
   "outputs": [
    {
     "name": "stdout",
     "output_type": "stream",
     "text": [
      "Training set has 533563 samples.\n",
      "Testing set has 228671 samples.\n"
     ]
    }
   ],
   "source": [
    "# Import any additional functionality you may need here\n",
    "from sklearn.model_selection import train_test_split\n",
    "\n",
    "X_train, X_test, y_train, y_test = train_test_split(X_res, y_res, stratify = y_res, test_size=0.3, random_state=42)\n",
    "\n",
    "# Show the results of the split\n",
    "print \"Training set has {} samples.\".format(X_train.shape[0])\n",
    "print \"Testing set has {} samples.\".format(X_test.shape[0])"
   ]
  },
  {
   "cell_type": "code",
   "execution_count": 65,
   "metadata": {
    "collapsed": false
   },
   "outputs": [
    {
     "name": "stdout",
     "output_type": "stream",
     "text": [
      "Made predictions in 545.41 seconds\n",
      "F1 score for test set: 0.76322100.\n"
     ]
    }
   ],
   "source": [
    "from sklearn.linear_model import LogisticRegression\n",
    "from sklearn.metrics import f1_score\n",
    "from time import time\n",
    "\n",
    "# Start the clock, train the classifier, then stop the clock\n",
    "\n",
    "clf = LogisticRegression(random_state=42)\n",
    "\n",
    "start_test = time()\n",
    "\n",
    "y_pred_test = clf.fit(X_train, y_train).predict(X_test)\n",
    "f1_test = f1_score(y_test, y_pred_test)\n",
    "\n",
    "end_test = time()\n",
    "\n",
    "\n",
    "# Print the results\n",
    "# print \"Trained model in {:.2f} seconds\".format(end - start)\n",
    "print \"Made predictions in {:.2f} seconds\".format(end_test - start_test)\n",
    "\n",
    "\n",
    "# Print the results of prediction for both training and testing\n",
    "# print \"F1 score for training set: {:.8f}.\".format(f1_train)\n",
    "print \"F1 score for test set: {:.8f}.\".format(f1_test)"
   ]
  },
  {
   "cell_type": "code",
   "execution_count": 66,
   "metadata": {
    "collapsed": false
   },
   "outputs": [
    {
     "data": {
      "image/png": "[encoded data removed]",
      "text/plain": [
       "<matplotlib.figure.Figure at 0x127524190>"
      ]
     },
     "metadata": {},
     "output_type": "display_data"
    }
   ],
   "source": [
    "from sklearn.metrics import confusion_matrix\n",
    "\n",
    "cnf_matrix = confusion_matrix(y_test, y_pred_test)\n",
    "\n",
    "# Set binary target as 'yes' and 'no'\n",
    "target=np.array(['Vaginal', 'C-Section'])\n",
    "\n",
    "# Plot non-normalized confusion matrix foe each classifier\n",
    "plt.figure()\n",
    "vs.PlotConfusionMatrix(cnf_matrix, classes=target,\n",
    "                      title='Confusion matrix for Logistic Regression')\n"
   ]
  },
  {
   "cell_type": "code",
   "execution_count": 67,
   "metadata": {
    "collapsed": false
   },
   "outputs": [
    {
     "name": "stdout",
     "output_type": "stream",
     "text": [
      "Made predictions in 55.29 seconds\n",
      "F1 score for test set: 0.98886342.\n"
     ]
    }
   ],
   "source": [
    "from sklearn.ensemble import RandomForestClassifier\n",
    "clf=RandomForestClassifier()\n",
    "start_rf = time()\n",
    "\n",
    "y_pred = clf.fit(X_train, y_train).predict(X_train)\n",
    "f1_rf_test = f1_score(y_train, y_pred)\n",
    "\n",
    "end_rf=time()\n",
    "\n",
    "print \"Made predictions in {:.2f} seconds\".format(end_rf - start_rf)\n",
    "print \"F1 score for test set: {:.8f}.\".format(f1_rf_test)"
   ]
  },
  {
   "cell_type": "code",
   "execution_count": 68,
   "metadata": {
    "collapsed": false
   },
   "outputs": [
    {
     "data": {
      "image/png": "[encoded data removed]",
      "text/plain": [
       "<matplotlib.figure.Figure at 0x10fb75650>"
      ]
     },
     "metadata": {},
     "output_type": "display_data"
    }
   ],
   "source": [
    "from sklearn.metrics import confusion_matrix\n",
    "\n",
    "cnf_matrix = confusion_matrix(y_train, y_pred)\n",
    "\n",
    "# Set binary target as 'yes' and 'no'\n",
    "target=np.array(['Vaginal', 'C-Section'])\n",
    "\n",
    "# Plot non-normalized confusion matrix foe each classifier\n",
    "plt.figure()\n",
    "vs.PlotConfusionMatrix(cnf_matrix, classes=target,\n",
    "                      title='Confusion matrix for Random Forest')"
   ]
  },
  {
   "cell_type": "code",
   "execution_count": 69,
   "metadata": {
    "collapsed": false
   },
   "outputs": [
    {
     "name": "stdout",
     "output_type": "stream",
     "text": [
      "Made predictions in 49.74 seconds\n",
      "F1 score for test set: 0.78112400.\n"
     ]
    }
   ],
   "source": [
    "from sklearn.ensemble import RandomForestClassifier\n",
    "clf=RandomForestClassifier()\n",
    "start_rf = time()\n",
    "\n",
    "y_pred = clf.fit(X_train, y_train).predict(X_test)\n",
    "f1_rf_test = f1_score(y_test, y_pred)\n",
    "\n",
    "end_rf=time()\n",
    "\n",
    "print \"Made predictions in {:.2f} seconds\".format(end_rf - start_rf)\n",
    "print \"F1 score for test set: {:.8f}.\".format(f1_rf_test)"
   ]
  },
  {
   "cell_type": "code",
   "execution_count": 70,
   "metadata": {
    "collapsed": false
   },
   "outputs": [
    {
     "data": {
      "image/png": "[encoded data removed]",
      "text/plain": [
       "<matplotlib.figure.Figure at 0x10f94df50>"
      ]
     },
     "metadata": {},
     "output_type": "display_data"
    }
   ],
   "source": [
    "from sklearn.metrics import confusion_matrix\n",
    "\n",
    "cnf_matrix = confusion_matrix(y_test, y_pred)\n",
    "\n",
    "# Set binary target as 'yes' and 'no'\n",
    "target=np.array(['Vaginal', 'C-Section'])\n",
    "\n",
    "# Plot non-normalized confusion matrix foe each classifier\n",
    "plt.figure()\n",
    "vs.PlotConfusionMatrix(cnf_matrix, classes=target,\n",
    "                      title='Confusion matrix for Random Forest')"
   ]
  },
  {
   "cell_type": "code",
   "execution_count": 74,
   "metadata": {
    "collapsed": false
   },
   "outputs": [
    {
     "name": "stdout",
     "output_type": "stream",
     "text": [
      "Tuned model has a testing F1 score of 0.79484941.\n",
      "Best parameters set found on development set:\n",
      "\n",
      "RandomForestClassifier(bootstrap=True, class_weight=None, criterion='gini',\n",
      "            max_depth=50, max_features='auto', max_leaf_nodes=None,\n",
      "            min_impurity_split=1e-07, min_samples_leaf=1,\n",
      "            min_samples_split=2, min_weight_fraction_leaf=0.0,\n",
      "            n_estimators=55, n_jobs=1, oob_score=False, random_state=42,\n",
      "            verbose=0, warm_start=False)\n"
     ]
    }
   ],
   "source": [
    "# Import 'GridSearchCV' and 'make_scorer'\n",
    "from sklearn.grid_search import GridSearchCV\n",
    "\n",
    "# Create the parameters list you wish to tune\n",
    "parameters = {'n_estimators':[35, 40, 45, 50, 55], 'max_depth':[50]}\n",
    "\n",
    "# Initialize the classifier\n",
    "clf=RandomForestClassifier(random_state=42)\n",
    "# Perform grid search on the classifier using the f1_scorer as the scoring method\n",
    "grid_obj = GridSearchCV(clf, parameters)\n",
    "\n",
    "# Fit the grid search object to the training data and find the optimal parameters\n",
    "grid_obj = grid_obj.fit(X_train, y_train)\n",
    "\n",
    "# Get the estimator\n",
    "clf = grid_obj.best_estimator_\n",
    "\n",
    "y_pred = clf.fit(X_train, y_train).predict(X_test)\n",
    "\n",
    "# Make an f1 scoring function using 'make_scorer' \n",
    "f1_tune_test = f1_score(y_test, y_pred)\n",
    "\n",
    "\n",
    "# Report the final F1 score for training and testing after parameter tuning\n",
    "print \"Tuned model has a testing F1 score of {:.8f}.\".format(f1_tune_test)\n",
    "print(\"Best parameters set found on development set:\")\n",
    "print\n",
    "print(grid_obj.best_estimator_)"
   ]
  },
  {
   "cell_type": "code",
   "execution_count": 78,
   "metadata": {
    "collapsed": false
   },
   "outputs": [
    {
     "name": "stdout",
     "output_type": "stream",
     "text": [
      "Made predictions in 324.26 seconds\n",
      "F1 score for test set: 0.79588411.\n"
     ]
    }
   ],
   "source": [
    "from sklearn.ensemble import RandomForestClassifier\n",
    "clf=RandomForestClassifier(max_depth=50,n_estimators=65, random_state=42)\n",
    "start_rf = time()\n",
    "\n",
    "y_pred = clf.fit(X_train, y_train).predict(X_test)\n",
    "f1_rf_test = f1_score(y_test, y_pred)\n",
    "\n",
    "end_rf=time()\n",
    "\n",
    "print \"Made predictions in {:.2f} seconds\".format(end_rf - start_rf)\n",
    "print \"F1 score for test set: {:.8f}.\".format(f1_rf_test)"
   ]
  },
  {
   "cell_type": "code",
   "execution_count": 79,
   "metadata": {
    "collapsed": false
   },
   "outputs": [
    {
     "data": {
      "image/png": "[encoded data removed]",
      "text/plain": [
       "<matplotlib.figure.Figure at 0x127524190>"
      ]
     },
     "metadata": {},
     "output_type": "display_data"
    }
   ],
   "source": [
    "from sklearn.metrics import confusion_matrix\n",
    "\n",
    "cnf_matrix = confusion_matrix(y_test, y_pred)\n",
    "\n",
    "# Set binary target as 'yes' and 'no'\n",
    "target=np.array(['Vaginal', 'C-Section'])\n",
    "\n",
    "# Plot non-normalized confusion matrix foe each classifier\n",
    "plt.figure()\n",
    "vs.PlotConfusionMatrix(cnf_matrix, classes=target,\n",
    "                      title='Confusion matrix for Random Forest')"
   ]
  },
  {
   "cell_type": "code",
   "execution_count": 73,
   "metadata": {
    "collapsed": false
   },
   "outputs": [
    {
     "name": "stdout",
     "output_type": "stream",
     "text": [
      "Feature ranking:\n",
      "1. feature 169 (0.049490)\n",
      "2. feature 56 (0.040189)\n",
      "3. feature 153 (0.038600)\n",
      "4. feature 38 (0.036253)\n",
      "5. feature 55 (0.034344)\n",
      "6. feature 53 (0.030336)\n",
      "7. feature 165 (0.030033)\n",
      "8. feature 42 (0.026533)\n",
      "9. feature 36 (0.023630)\n",
      "10. feature 33 (0.022359)\n",
      "11. feature 167 (0.021289)\n",
      "12. feature 40 (0.020365)\n",
      "13. feature 1 (0.020257)\n",
      "14. feature 168 (0.020244)\n",
      "15. feature 57 (0.020204)\n",
      "16. feature 11 (0.019981)\n",
      "17. feature 91 (0.019190)\n",
      "18. feature 10 (0.019020)\n",
      "19. feature 37 (0.016994)\n",
      "20. feature 246 (0.015876)\n",
      "21. feature 54 (0.015613)\n",
      "22. feature 124 (0.014212)\n",
      "23. feature 130 (0.013875)\n",
      "24. feature 134 (0.013704)\n",
      "25. feature 126 (0.012350)\n",
      "26. feature 88 (0.011750)\n",
      "27. feature 132 (0.011659)\n",
      "28. feature 248 (0.010876)\n",
      "29. feature 12 (0.010272)\n",
      "30. feature 41 (0.010244)\n",
      "31. feature 157 (0.010024)\n",
      "32. feature 13 (0.009961)\n",
      "33. feature 4 (0.009889)\n",
      "34. feature 3 (0.009837)\n",
      "35. feature 133 (0.009321)\n",
      "36. feature 90 (0.009128)\n",
      "37. feature 35 (0.008641)\n",
      "38. feature 166 (0.008565)\n",
      "39. feature 115 (0.008256)\n",
      "40. feature 159 (0.008180)\n",
      "41. feature 39 (0.008072)\n",
      "42. feature 158 (0.008006)\n",
      "43. feature 247 (0.006756)\n",
      "44. feature 2 (0.006516)\n",
      "45. feature 163 (0.006393)\n",
      "46. feature 164 (0.006332)\n",
      "47. feature 16 (0.005809)\n",
      "48. feature 92 (0.005729)\n",
      "49. feature 45 (0.005457)\n",
      "50. feature 120 (0.005454)\n",
      "51. feature 118 (0.005449)\n",
      "52. feature 43 (0.005387)\n",
      "53. feature 46 (0.005376)\n",
      "54. feature 17 (0.005288)\n",
      "55. feature 239 (0.005241)\n",
      "56. feature 9 (0.005000)\n",
      "57. feature 238 (0.004899)\n",
      "58. feature 189 (0.004533)\n",
      "59. feature 19 (0.004513)\n",
      "60. feature 237 (0.004329)\n",
      "61. feature 8 (0.004327)\n",
      "62. feature 177 (0.004180)\n",
      "63. feature 7 (0.004151)\n",
      "64. feature 117 (0.004004)\n",
      "65. feature 64 (0.003698)\n",
      "66. feature 47 (0.003562)\n",
      "67. feature 170 (0.003377)\n",
      "68. feature 15 (0.003186)\n",
      "69. feature 127 (0.003139)\n",
      "70. feature 18 (0.003103)\n",
      "71. feature 48 (0.003099)\n",
      "72. feature 179 (0.003062)\n",
      "73. feature 67 (0.003042)\n",
      "74. feature 49 (0.002986)\n",
      "75. feature 162 (0.002928)\n",
      "76. feature 87 (0.002877)\n",
      "77. feature 171 (0.002767)\n",
      "78. feature 140 (0.002763)\n",
      "79. feature 20 (0.002740)\n",
      "80. feature 22 (0.002673)\n",
      "81. feature 245 (0.002646)\n",
      "82. feature 150 (0.002570)\n",
      "83. feature 161 (0.002529)\n",
      "84. feature 241 (0.002184)\n",
      "85. feature 138 (0.002161)\n",
      "86. feature 5 (0.002155)\n",
      "87. feature 50 (0.002082)\n",
      "88. feature 52 (0.001989)\n",
      "89. feature 152 (0.001916)\n",
      "90. feature 243 (0.001836)\n",
      "91. feature 69 (0.001822)\n",
      "92. feature 174 (0.001647)\n",
      "93. feature 21 (0.001567)\n",
      "94. feature 61 (0.001525)\n",
      "95. feature 85 (0.001509)\n",
      "96. feature 44 (0.001490)\n",
      "97. feature 63 (0.001475)\n",
      "98. feature 112 (0.001467)\n",
      "99. feature 14 (0.001463)\n",
      "100. feature 58 (0.001453)\n",
      "101. feature 129 (0.001423)\n",
      "102. feature 108 (0.001407)\n",
      "103. feature 100 (0.001354)\n",
      "104. feature 173 (0.001270)\n",
      "105. feature 183 (0.001243)\n",
      "106. feature 160 (0.001210)\n",
      "107. feature 81 (0.001152)\n",
      "108. feature 0 (0.001147)\n",
      "109. feature 99 (0.001126)\n",
      "110. feature 101 (0.001094)\n",
      "111. feature 80 (0.001073)\n",
      "112. feature 136 (0.001058)\n",
      "113. feature 128 (0.001055)\n",
      "114. feature 34 (0.001006)\n",
      "115. feature 185 (0.000911)\n",
      "116. feature 242 (0.000909)\n",
      "117. feature 73 (0.000827)\n",
      "118. feature 75 (0.000810)\n",
      "119. feature 240 (0.000798)\n",
      "120. feature 196 (0.000728)\n",
      "121. feature 51 (0.000712)\n",
      "122. feature 66 (0.000624)\n",
      "123. feature 231 (0.000622)\n",
      "124. feature 123 (0.000593)\n",
      "125. feature 121 (0.000581)\n",
      "126. feature 233 (0.000572)\n",
      "127. feature 94 (0.000510)\n",
      "128. feature 76 (0.000496)\n",
      "129. feature 60 (0.000448)\n",
      "130. feature 154 (0.000446)\n",
      "131. feature 151 (0.000436)\n",
      "132. feature 229 (0.000427)\n",
      "133. feature 78 (0.000421)\n",
      "134. feature 135 (0.000417)\n",
      "135. feature 228 (0.000413)\n",
      "136. feature 147 (0.000411)\n",
      "137. feature 116 (0.000386)\n",
      "138. feature 137 (0.000359)\n",
      "139. feature 156 (0.000330)\n",
      "140. feature 176 (0.000330)\n",
      "141. feature 105 (0.000325)\n",
      "142. feature 93 (0.000315)\n",
      "143. feature 82 (0.000287)\n",
      "144. feature 86 (0.000281)\n",
      "145. feature 109 (0.000280)\n",
      "146. feature 83 (0.000267)\n",
      "147. feature 79 (0.000265)\n",
      "148. feature 102 (0.000256)\n",
      "149. feature 244 (0.000252)\n",
      "150. feature 230 (0.000250)\n",
      "151. feature 236 (0.000245)\n",
      "152. feature 70 (0.000241)\n",
      "153. feature 107 (0.000231)\n",
      "154. feature 95 (0.000218)\n",
      "155. feature 111 (0.000203)\n",
      "156. feature 234 (0.000199)\n",
      "157. feature 72 (0.000186)\n",
      "158. feature 104 (0.000179)\n",
      "159. feature 96 (0.000168)\n",
      "160. feature 6 (0.000166)\n",
      "161. feature 180 (0.000164)\n",
      "162. feature 141 (0.000150)\n",
      "163. feature 149 (0.000139)\n",
      "164. feature 199 (0.000135)\n",
      "165. feature 182 (0.000130)\n",
      "166. feature 97 (0.000113)\n",
      "167. feature 113 (0.000111)\n",
      "168. feature 106 (0.000109)\n",
      "169. feature 114 (0.000109)\n",
      "170. feature 235 (0.000107)\n",
      "171. feature 103 (0.000106)\n",
      "172. feature 84 (0.000104)\n",
      "173. feature 144 (0.000101)\n",
      "174. feature 252 (0.000100)\n",
      "175. feature 155 (0.000097)\n",
      "176. feature 110 (0.000096)\n",
      "177. feature 254 (0.000093)\n",
      "178. feature 225 (0.000087)\n",
      "179. feature 232 (0.000085)\n",
      "180. feature 186 (0.000079)\n",
      "181. feature 25 (0.000076)\n",
      "182. feature 98 (0.000075)\n",
      "183. feature 145 (0.000073)\n",
      "184. feature 211 (0.000068)\n",
      "185. feature 142 (0.000066)\n",
      "186. feature 28 (0.000066)\n",
      "187. feature 148 (0.000066)\n",
      "188. feature 251 (0.000064)\n",
      "189. feature 139 (0.000062)\n",
      "190. feature 227 (0.000061)\n",
      "191. feature 222 (0.000056)\n",
      "192. feature 253 (0.000055)\n",
      "193. feature 172 (0.000054)\n",
      "194. feature 198 (0.000054)\n",
      "195. feature 218 (0.000054)\n",
      "196. feature 187 (0.000053)\n",
      "197. feature 250 (0.000051)\n",
      "198. feature 184 (0.000051)\n",
      "199. feature 143 (0.000051)\n",
      "200. feature 214 (0.000050)\n",
      "201. feature 205 (0.000049)\n",
      "202. feature 208 (0.000049)\n",
      "203. feature 31 (0.000048)\n",
      "204. feature 181 (0.000046)\n",
      "205. feature 249 (0.000045)\n",
      "206. feature 178 (0.000044)\n",
      "207. feature 146 (0.000042)\n",
      "208. feature 200 (0.000042)\n",
      "209. feature 213 (0.000042)\n",
      "210. feature 188 (0.000040)\n",
      "211. feature 175 (0.000039)\n",
      "212. feature 26 (0.000038)\n",
      "213. feature 191 (0.000033)\n",
      "214. feature 190 (0.000032)\n",
      "215. feature 193 (0.000032)\n",
      "216. feature 212 (0.000032)\n",
      "217. feature 203 (0.000032)\n",
      "218. feature 202 (0.000030)\n",
      "219. feature 29 (0.000030)\n",
      "220. feature 194 (0.000030)\n",
      "221. feature 209 (0.000029)\n",
      "222. feature 224 (0.000028)\n",
      "223. feature 206 (0.000028)\n",
      "224. feature 215 (0.000028)\n",
      "225. feature 197 (0.000028)\n",
      "226. feature 226 (0.000026)\n",
      "227. feature 131 (0.000026)\n",
      "228. feature 219 (0.000025)\n",
      "229. feature 220 (0.000024)\n",
      "230. feature 216 (0.000024)\n",
      "231. feature 27 (0.000022)\n",
      "232. feature 24 (0.000021)\n",
      "233. feature 65 (0.000020)\n",
      "234. feature 68 (0.000020)\n",
      "235. feature 62 (0.000020)\n",
      "236. feature 223 (0.000019)\n",
      "237. feature 207 (0.000019)\n",
      "238. feature 71 (0.000018)\n",
      "239. feature 74 (0.000018)\n",
      "240. feature 32 (0.000016)\n",
      "241. feature 77 (0.000016)\n",
      "242. feature 59 (0.000015)\n",
      "243. feature 125 (0.000015)\n",
      "244. feature 30 (0.000015)\n",
      "245. feature 210 (0.000014)\n",
      "246. feature 122 (0.000014)\n",
      "247. feature 201 (0.000013)\n",
      "248. feature 89 (0.000011)\n",
      "249. feature 23 (0.000011)\n",
      "250. feature 217 (0.000011)\n",
      "251. feature 221 (0.000009)\n",
      "252. feature 119 (0.000008)\n",
      "253. feature 195 (0.000006)\n",
      "254. feature 192 (0.000005)\n",
      "255. feature 204 (0.000003)\n"
     ]
    },
    {
     "data": {
      "image/png": "[encoded data removed]",
      "text/plain": [
       "<matplotlib.figure.Figure at 0x10fa880d0>"
      ]
     },
     "metadata": {},
     "output_type": "display_data"
    }
   ],
   "source": [
    "# Display important features in descending order\n",
    "\n",
    "# coefs=clf.coef_.ravel()\n",
    "# names = list(X_all.columns)\n",
    "\n",
    "# importances = pd.DataFrame({'cols':names, 'imps':np.abs(coefs)})\n",
    "# print importances.sort(['imps'], ascending=False)\n",
    "\n",
    "# N=20\n",
    "importances = clf.feature_importances_\n",
    "indices = np.argsort(importances)[::-1]\n",
    "\n",
    "# Print the feature ranking\n",
    "print(\"Feature ranking:\")\n",
    "\n",
    "for f in range(X_test.shape[1]):\n",
    "    print(\"%d. feature %d (%f)\" % (f + 1, indices[f], importances[indices[f]]))\n",
    "\n",
    "# Plot the feature importances of the forest\n",
    "plt.figure()\n",
    "plt.title(\"Feature importances\")\n",
    "plt.bar(range(X_test.shape[1]), importances[indices],\n",
    "       color=\"r\", align=\"center\")\n",
    "plt.xticks(range(X_test.shape[1]), indices)\n",
    "plt.xlim([-1, X_test.shape[1]])\n",
    "plt.show()\n",
    "\n"
   ]
  },
  {
   "cell_type": "code",
   "execution_count": null,
   "metadata": {
    "collapsed": true
   },
   "outputs": [],
   "source": []
  },
  {
   "cell_type": "code",
   "execution_count": null,
   "metadata": {
    "collapsed": false
   },
   "outputs": [],
   "source": [
    "\n"
   ]
  },
  {
   "cell_type": "code",
   "execution_count": null,
   "metadata": {
    "collapsed": false
   },
   "outputs": [],
   "source": [
    "\n"
   ]
  },
  {
   "cell_type": "code",
   "execution_count": null,
   "metadata": {
    "collapsed": false
   },
   "outputs": [],
   "source": [
    "\n",
    "    \n",
    "\n"
   ]
  },
  {
   "cell_type": "code",
   "execution_count": null,
   "metadata": {
    "collapsed": true
   },
   "outputs": [],
   "source": []
  }
 ],
 "metadata": {
  "kernelspec": {
   "display_name": "Python 2",
   "language": "python",
   "name": "python2"
  },
  "language_info": {
   "codemirror_mode": {
    "name": "ipython",
    "version": 2
   },
   "file_extension": ".py",
   "mimetype": "text/x-python",
   "name": "python",
   "nbconvert_exporter": "python",
   "pygments_lexer": "ipython2",
   "version": "2.7.13"
  }
 },
 "nbformat": 4,
 "nbformat_minor": 2
}
